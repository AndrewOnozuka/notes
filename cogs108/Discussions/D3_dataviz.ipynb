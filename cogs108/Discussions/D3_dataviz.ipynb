{
 "cells": [
  {
   "cell_type": "markdown",
   "metadata": {
    "deletable": false,
    "editable": false,
    "nbgrader": {
     "cell_type": "markdown",
     "checksum": "03f418d708eb6ade3b64837c373de1c2",
     "grade": false,
     "grade_id": "cell-c3c494a9222f3e7b",
     "locked": true,
     "schema_version": 3,
     "solution": false
    }
   },
   "source": [
    "# Workbook : EDA & Data Visualization\n",
    "\n",
    "We'll continue working with the dataset from the Wrangling workbook here to answer the questions we set out to answer previously:\n",
    "\n",
    "1. Who cheats more on their significant other - males or females?\n",
    "2. Are cigarette smokers less likely to skydive?\n",
    "3. Do people in New England gamble more than other parts of the country?\n",
    "\n",
    "To do this, we'll explore the data and generate a number of visualizations. Note that we don't have `assert` statements when it comes to visualizations here. Instead, we have hidden test cells. Please do not modify the cells as they are necessary to reward points for your graphs!"
   ]
  },
  {
   "cell_type": "markdown",
   "metadata": {
    "deletable": false,
    "editable": false,
    "nbgrader": {
     "cell_type": "markdown",
     "checksum": "200772bfb4c576990a564bcd5dbdda0e",
     "grade": false,
     "grade_id": "cell-cce4785ff6dc8144",
     "locked": true,
     "schema_version": 3,
     "solution": false
    }
   },
   "source": [
    "**Import the following packages using their common shortened name found in parentheses:**\n",
    "\n",
    "* `numpy` (`np`)\n",
    "* `pandas` (`pd`)\n",
    "* `matplotlib.pyplot` (`plt`)\n",
    "* `seaborn` (`sns`)"
   ]
  },
  {
   "cell_type": "code",
   "execution_count": 1,
   "metadata": {
    "deletable": false,
    "nbgrader": {
     "cell_type": "code",
     "checksum": "a8ec5587bb80edaa04f51becde0f613d",
     "grade": false,
     "grade_id": "cell-6938b812324245d8",
     "locked": false,
     "schema_version": 3,
     "solution": true
    }
   },
   "outputs": [],
   "source": [
    "import numpy as np\n",
    "import pandas as pd\n",
    "import matplotlib.pyplot as plt\n",
    "import seaborn as sns"
   ]
  },
  {
   "cell_type": "code",
   "execution_count": 2,
   "metadata": {
    "deletable": false,
    "editable": false,
    "nbgrader": {
     "cell_type": "code",
     "checksum": "af462c8578e1df483f5461605207d866",
     "grade": true,
     "grade_id": "cell-355289595d6f5932",
     "locked": true,
     "points": 0.1,
     "schema_version": 3,
     "solution": false,
     "task": false
    }
   },
   "outputs": [],
   "source": [
    "assert np\n",
    "assert pd\n",
    "assert plt\n",
    "assert sns"
   ]
  },
  {
   "cell_type": "markdown",
   "metadata": {
    "deletable": false,
    "editable": false,
    "nbgrader": {
     "cell_type": "markdown",
     "checksum": "f992962f4809d466c71516e0b8fbab6e",
     "grade": false,
     "grade_id": "cell-d04c80be16ea9130",
     "locked": true,
     "schema_version": 3,
     "solution": false
    }
   },
   "source": [
    "**Run the following cell code to make things throughout the rest of this workbook a little prettier.** (Note: You don't have to edit code here, but are free to and see what changes to be sure you understand each line.)"
   ]
  },
  {
   "cell_type": "code",
   "execution_count": 3,
   "metadata": {},
   "outputs": [],
   "source": [
    "# Configure libraries\n",
    "# The seaborn library makes plots look nicer\n",
    "sns.set(context = 'talk', style='white')\n",
    "\n",
    "# Don't display too many rows/cols of DataFrames\n",
    "pd.options.display.max_rows = 7\n",
    "pd.options.display.max_columns = 8\n",
    "\n",
    "# Round decimals when displaying DataFrames\n",
    "pd.set_option('display.precision', 2)\n",
    "\n",
    "# Make plots just slightly bigger for displaying well in notebook\n",
    "# set plotting size parameter\n",
    "plt.rcParams['figure.figsize'] = (10, 5)"
   ]
  },
  {
   "cell_type": "markdown",
   "metadata": {
    "deletable": false,
    "editable": false,
    "nbgrader": {
     "cell_type": "markdown",
     "checksum": "113d5a040fe3eafc027fa861c7f159d8",
     "grade": false,
     "grade_id": "cell-a846fe872a855767",
     "locked": true,
     "schema_version": 3,
     "solution": false
    }
   },
   "source": [
    "I've included a cell of code that would have been written and run in the previous workbook. Here, we read the data in, wrangle it into the format we want, and clean it up a bit. See the previous workbook for more details. **Simply, run the code in this cell to get started working with these data in this workbook.**"
   ]
  },
  {
   "cell_type": "code",
   "execution_count": 4,
   "metadata": {},
   "outputs": [
    {
     "data": {
      "text/html": [
       "<div>\n",
       "<style scoped>\n",
       "    .dataframe tbody tr th:only-of-type {\n",
       "        vertical-align: middle;\n",
       "    }\n",
       "\n",
       "    .dataframe tbody tr th {\n",
       "        vertical-align: top;\n",
       "    }\n",
       "\n",
       "    .dataframe thead th {\n",
       "        text-align: right;\n",
       "    }\n",
       "</style>\n",
       "<table border=\"1\" class=\"dataframe\">\n",
       "  <thead>\n",
       "    <tr style=\"text-align: right;\">\n",
       "      <th></th>\n",
       "      <th>smoking</th>\n",
       "      <th>alcohol</th>\n",
       "      <th>gambling</th>\n",
       "      <th>skydiving</th>\n",
       "      <th>...</th>\n",
       "      <th>age</th>\n",
       "      <th>income</th>\n",
       "      <th>education</th>\n",
       "      <th>region</th>\n",
       "    </tr>\n",
       "  </thead>\n",
       "  <tbody>\n",
       "    <tr>\n",
       "      <th>2</th>\n",
       "      <td>No</td>\n",
       "      <td>Yes</td>\n",
       "      <td>No</td>\n",
       "      <td>No</td>\n",
       "      <td>...</td>\n",
       "      <td>&gt; 60</td>\n",
       "      <td>$50,000 - $99,999</td>\n",
       "      <td>Some college or Associate degree</td>\n",
       "      <td>East North Central</td>\n",
       "    </tr>\n",
       "    <tr>\n",
       "      <th>3</th>\n",
       "      <td>No</td>\n",
       "      <td>Yes</td>\n",
       "      <td>Yes</td>\n",
       "      <td>No</td>\n",
       "      <td>...</td>\n",
       "      <td>&gt; 60</td>\n",
       "      <td>$150,000+</td>\n",
       "      <td>Graduate degree</td>\n",
       "      <td>South Atlantic</td>\n",
       "    </tr>\n",
       "    <tr>\n",
       "      <th>4</th>\n",
       "      <td>Yes</td>\n",
       "      <td>Yes</td>\n",
       "      <td>Yes</td>\n",
       "      <td>No</td>\n",
       "      <td>...</td>\n",
       "      <td>&gt; 60</td>\n",
       "      <td>$50,000 - $99,999</td>\n",
       "      <td>Bachelor degree</td>\n",
       "      <td>New England</td>\n",
       "    </tr>\n",
       "    <tr>\n",
       "      <th>5</th>\n",
       "      <td>No</td>\n",
       "      <td>Yes</td>\n",
       "      <td>No</td>\n",
       "      <td>No</td>\n",
       "      <td>...</td>\n",
       "      <td>&gt; 60</td>\n",
       "      <td>$50,000 - $99,999</td>\n",
       "      <td>Graduate degree</td>\n",
       "      <td>Middle Atlantic</td>\n",
       "    </tr>\n",
       "    <tr>\n",
       "      <th>6</th>\n",
       "      <td>No</td>\n",
       "      <td>No</td>\n",
       "      <td>No</td>\n",
       "      <td>No</td>\n",
       "      <td>...</td>\n",
       "      <td>18-29</td>\n",
       "      <td>$0 - $24,999</td>\n",
       "      <td>Some college or Associate degree</td>\n",
       "      <td>West South Central</td>\n",
       "    </tr>\n",
       "  </tbody>\n",
       "</table>\n",
       "<p>5 rows × 13 columns</p>\n",
       "</div>"
      ],
      "text/plain": [
       "  smoking alcohol gambling skydiving  ...    age             income  \\\n",
       "2      No     Yes       No        No  ...   > 60  $50,000 - $99,999   \n",
       "3      No     Yes      Yes        No  ...   > 60          $150,000+   \n",
       "4     Yes     Yes      Yes        No  ...   > 60  $50,000 - $99,999   \n",
       "5      No     Yes       No        No  ...   > 60  $50,000 - $99,999   \n",
       "6      No      No       No        No  ...  18-29       $0 - $24,999   \n",
       "\n",
       "                          education              region  \n",
       "2  Some college or Associate degree  East North Central  \n",
       "3                   Graduate degree      South Atlantic  \n",
       "4                   Bachelor degree         New England  \n",
       "5                   Graduate degree     Middle Atlantic  \n",
       "6  Some college or Associate degree  West South Central  \n",
       "\n",
       "[5 rows x 13 columns]"
      ]
     },
     "execution_count": 4,
     "metadata": {},
     "output_type": "execute_result"
    }
   ],
   "source": [
    "# read in and clean up the data\n",
    "survey = pd.read_csv('https://raw.githubusercontent.com/fivethirtyeight/data/master/steak-survey/steak-risk-survey.csv')\n",
    "survey  = survey.iloc[1:,2:]\n",
    "survey.columns = ['smoking','alcohol','gambling',\n",
    " 'skydiving','speeding', 'cheated',\n",
    " 'steak', 'steak_preference','gender',\n",
    " 'age', 'income', 'education', 'region']\n",
    "survey = survey.dropna(how='all')\n",
    "survey.head()"
   ]
  },
  {
   "cell_type": "markdown",
   "metadata": {
    "deletable": false,
    "editable": false,
    "nbgrader": {
     "cell_type": "markdown",
     "checksum": "1355fec88648406127147641260238e4",
     "grade": false,
     "grade_id": "cell-c1f5c8002d0f9e51",
     "locked": true,
     "schema_version": 3,
     "solution": false
    },
    "slideshow": {
     "slide_type": "slide"
    }
   },
   "source": [
    "In this workbook, we're going to focus on working with categorical data. (You'll get plenty of practice working with and analyzing quantitative information throughout the course!)"
   ]
  },
  {
   "cell_type": "markdown",
   "metadata": {
    "deletable": false,
    "editable": false,
    "nbgrader": {
     "cell_type": "markdown",
     "checksum": "d518d05e0135fb1fec529e871332fa8d",
     "grade": false,
     "grade_id": "cell-173cd1ab74dbae09",
     "locked": true,
     "schema_version": 3,
     "solution": false
    }
   },
   "source": [
    "# Part I : Cheating\n",
    "\n",
    "Let's answer the question: *Who cheats more on their significant other - males or females?*\n",
    "\n",
    "We'll use the survey responses to answer this qusetion."
   ]
  },
  {
   "cell_type": "markdown",
   "metadata": {
    "deletable": false,
    "editable": false,
    "nbgrader": {
     "cell_type": "markdown",
     "checksum": "648c7129d9bdbf3964ac15cbf1305d4e",
     "grade": false,
     "grade_id": "cell-314587e9f66a0bcb",
     "locked": true,
     "schema_version": 3,
     "solution": false
    }
   },
   "source": [
    "First we need to know whether or not the same number of males and females responded to this survey. Ultimately, if we don't have the same number of male and female respondents, we'll need to compare rates, rather than counts. **To do this, use the `value_counts` method to summarize the number of males and females in the dataset. Assign this output to the variable `gender_counts`. Print the output.**"
   ]
  },
  {
   "cell_type": "code",
   "execution_count": 5,
   "metadata": {
    "deletable": false,
    "nbgrader": {
     "cell_type": "code",
     "checksum": "cb8d71db8fb5486378354811544331ef",
     "grade": false,
     "grade_id": "cell-8afbe2815d8e71db",
     "locked": false,
     "schema_version": 3,
     "solution": true
    }
   },
   "outputs": [
    {
     "name": "stdout",
     "output_type": "stream",
     "text": [
      "gender\n",
      "Female    268\n",
      "Male      246\n",
      "Name: count, dtype: int64\n"
     ]
    }
   ],
   "source": [
    "gender_counts = survey['gender'].value_counts()\n",
    "print(gender_counts)"
   ]
  },
  {
   "cell_type": "code",
   "execution_count": 6,
   "metadata": {
    "deletable": false,
    "editable": false,
    "nbgrader": {
     "cell_type": "code",
     "checksum": "75de420534791bde348732cbb8488e34",
     "grade": true,
     "grade_id": "cell-f749f1ec96b2257d",
     "locked": true,
     "points": 0.15,
     "schema_version": 3,
     "solution": false
    }
   },
   "outputs": [],
   "source": [
    "assert gender_counts[0] == 268 "
   ]
  },
  {
   "cell_type": "markdown",
   "metadata": {
    "deletable": false,
    "editable": false,
    "nbgrader": {
     "cell_type": "markdown",
     "checksum": "d3101a898e9976112b56aed1740a4f5a",
     "grade": false,
     "grade_id": "cell-989c83d8ba5fec1a",
     "locked": true,
     "schema_version": 3,
     "solution": false
    }
   },
   "source": [
    "While we know that we may not ultimately want to use counts to answer our question, let's really be sure we understand *why* by generating a barplot with counts. We'll then go on to make a bar plot using proportions. **Use seaborn to generate a grouped barchart that will help you answer this question by displaying the count of people who have cheated broken down by gender .**\n",
    "\n",
    "### Assign your seaborn plot to a variable named `plot_cheated`."
   ]
  },
  {
   "cell_type": "code",
   "execution_count": 7,
   "metadata": {
    "deletable": false,
    "nbgrader": {
     "cell_type": "code",
     "checksum": "0925d8f7cdedc9fe5934cb8aba9be6c0",
     "grade": false,
     "grade_id": "cell-1620af7167410e6c",
     "locked": false,
     "schema_version": 3,
     "solution": true
    }
   },
   "outputs": [
    {
     "data": {
      "text/plain": [
       "Text(0.5, 1.0, 'Cheating Counts by Gender')"
      ]
     },
     "execution_count": 7,
     "metadata": {},
     "output_type": "execute_result"
    },
    {
     "data": {
      "image/png": "[encoded data removed]",
      "text/plain": [
       "<Figure size 720x360 with 1 Axes>"
      ]
     },
     "metadata": {},
     "output_type": "display_data"
    }
   ],
   "source": [
    "# Assign your plot to a variable named 'plot_cheated'\n",
    "\n",
    "sns.countplot(x='gender', hue='cheated', data=survey)\n",
    "plt.title('Cheating Counts by Gender')"
   ]
  },
  {
   "cell_type": "code",
   "execution_count": 8,
   "metadata": {
    "deletable": false,
    "editable": false,
    "nbgrader": {
     "cell_type": "code",
     "checksum": "77b2d4d4076ec58e5c6d5326789b8148",
     "grade": true,
     "grade_id": "cell-85e3dd76aad8da45",
     "locked": true,
     "points": 0.25,
     "schema_version": 3,
     "solution": false,
     "task": false
    }
   },
   "outputs": [],
   "source": [
    "# TESTING CELL, PLEASE DO NOT EDIT"
   ]
  },
  {
   "cell_type": "markdown",
   "metadata": {
    "deletable": false,
    "editable": false,
    "nbgrader": {
     "cell_type": "markdown",
     "checksum": "f01b9a95494c99e89609e6326d6e39be",
     "grade": false,
     "grade_id": "cell-4fbcbbd6f6baa4ba",
     "locked": true,
     "schema_version": 3,
     "solution": false
    }
   },
   "source": [
    "Okay, if you've generated a bar chart with `cheated` on the x-axis broken down by `gender`, you can see that more males said \"Yes\" and more females said \"No\"...but because we don't have the same counts in each group, we don't know how to really compare the two. Let's do the same now, but with proportions."
   ]
  },
  {
   "cell_type": "markdown",
   "metadata": {
    "deletable": false,
    "editable": false,
    "nbgrader": {
     "cell_type": "markdown",
     "checksum": "50466f112b5ba0da44467b7020ec0cf2",
     "grade": false,
     "grade_id": "cell-24d4a763282f42c7",
     "locked": true,
     "schema_version": 3,
     "solution": false
    }
   },
   "source": [
    "To do this, **create a DataFrame `prop_df` with three columns, one for gender, one for cheated, and one including the proportion of respondents who cheated within each gender.** This is going to take some `pandas` wrangling!\n",
    "\n",
    "**Be sure to take a look at what's stored in `prop_df`.**"
   ]
  },
  {
   "cell_type": "code",
   "execution_count": 9,
   "metadata": {
    "deletable": false,
    "nbgrader": {
     "cell_type": "code",
     "checksum": "3786fd284a8a39fbf965b831aebabee0",
     "grade": false,
     "grade_id": "cell-31ba899b3ca2686d",
     "locked": false,
     "schema_version": 3,
     "solution": true
    }
   },
   "outputs": [
    {
     "data": {
      "text/html": [
       "<div>\n",
       "<style scoped>\n",
       "    .dataframe tbody tr th:only-of-type {\n",
       "        vertical-align: middle;\n",
       "    }\n",
       "\n",
       "    .dataframe tbody tr th {\n",
       "        vertical-align: top;\n",
       "    }\n",
       "\n",
       "    .dataframe thead th {\n",
       "        text-align: right;\n",
       "    }\n",
       "</style>\n",
       "<table border=\"1\" class=\"dataframe\">\n",
       "  <thead>\n",
       "    <tr style=\"text-align: right;\">\n",
       "      <th></th>\n",
       "      <th>gender</th>\n",
       "      <th>cheated</th>\n",
       "      <th>proportion</th>\n",
       "    </tr>\n",
       "  </thead>\n",
       "  <tbody>\n",
       "    <tr>\n",
       "      <th>0</th>\n",
       "      <td>Female</td>\n",
       "      <td>No</td>\n",
       "      <td>0.84</td>\n",
       "    </tr>\n",
       "    <tr>\n",
       "      <th>1</th>\n",
       "      <td>Male</td>\n",
       "      <td>No</td>\n",
       "      <td>0.82</td>\n",
       "    </tr>\n",
       "    <tr>\n",
       "      <th>2</th>\n",
       "      <td>Female</td>\n",
       "      <td>Yes</td>\n",
       "      <td>0.16</td>\n",
       "    </tr>\n",
       "    <tr>\n",
       "      <th>3</th>\n",
       "      <td>Male</td>\n",
       "      <td>Yes</td>\n",
       "      <td>0.18</td>\n",
       "    </tr>\n",
       "  </tbody>\n",
       "</table>\n",
       "</div>"
      ],
      "text/plain": [
       "   gender cheated  proportion\n",
       "0  Female      No        0.84\n",
       "1    Male      No        0.82\n",
       "2  Female     Yes        0.16\n",
       "3    Male     Yes        0.18"
      ]
     },
     "execution_count": 9,
     "metadata": {},
     "output_type": "execute_result"
    }
   ],
   "source": [
    "prop_df = survey.groupby('gender')['cheated'].value_counts(normalize=True).unstack().reset_index()\n",
    "prop_df = prop_df.melt(id_vars='gender', var_name='cheated', value_name='proportion')\n",
    "prop_df"
   ]
  },
  {
   "cell_type": "code",
   "execution_count": 10,
   "metadata": {
    "deletable": false,
    "editable": false,
    "nbgrader": {
     "cell_type": "code",
     "checksum": "efffc14dcfcac810ecd5b80eb6fb5720",
     "grade": true,
     "grade_id": "cell-6aa9b35e4ea7cbf8",
     "locked": true,
     "points": 0.25,
     "schema_version": 3,
     "solution": false
    }
   },
   "outputs": [],
   "source": [
    "assert prop_df.loc[0,\"gender\"] == \"Female\"\n",
    "assert prop_df.shape == (4,3)"
   ]
  },
  {
   "cell_type": "markdown",
   "metadata": {
    "deletable": false,
    "editable": false,
    "nbgrader": {
     "cell_type": "markdown",
     "checksum": "47a1813f5031e923d7f6b7d6b3210b45",
     "grade": false,
     "grade_id": "cell-5aa0617dc6a8a9e7",
     "locked": true,
     "schema_version": 3,
     "solution": false
    }
   },
   "source": [
    "Now, you have the data you need. **Regenerate your barplot using the proportion data you just generated to determine which gender cheats more frequently.**\n",
    "\n",
    "\n",
    "### Assign your seaborn plot to a variable named `plot_proportion`."
   ]
  },
  {
   "cell_type": "code",
   "execution_count": 11,
   "metadata": {
    "deletable": false,
    "nbgrader": {
     "cell_type": "code",
     "checksum": "3191980fa0c66a87d7e5527a514d9d54",
     "grade": false,
     "grade_id": "cell-c308ec7b0d0b2f69",
     "locked": false,
     "schema_version": 3,
     "solution": true
    }
   },
   "outputs": [
    {
     "data": {
      "text/plain": [
       "Text(0.5, 1.0, 'Proportion of Respondents Who Cheated by Gender')"
      ]
     },
     "execution_count": 11,
     "metadata": {},
     "output_type": "execute_result"
    },
    {
     "data": {
      "image/png": "[encoded data removed]",
      "text/plain": [
       "<Figure size 720x360 with 1 Axes>"
      ]
     },
     "metadata": {},
     "output_type": "display_data"
    }
   ],
   "source": [
    "# Assign your seaborn plot to a variable named `plot_proportion`.\n",
    "\n",
    "plot_proportion = sns.barplot(x='gender', y='proportion', hue='cheated', data=prop_df)\n",
    "plt.title('Proportion of Respondents Who Cheated by Gender')"
   ]
  },
  {
   "cell_type": "code",
   "execution_count": 12,
   "metadata": {
    "deletable": false,
    "editable": false,
    "nbgrader": {
     "cell_type": "code",
     "checksum": "c1211158e5f1499d700bba85b710f260",
     "grade": true,
     "grade_id": "cell-51dc5f06407687d7",
     "locked": true,
     "points": 0.25,
     "schema_version": 3,
     "solution": false,
     "task": false
    }
   },
   "outputs": [],
   "source": [
    "# TESTING CELL, PLEASE DO NOT EDIT"
   ]
  },
  {
   "cell_type": "markdown",
   "metadata": {
    "deletable": false,
    "editable": false,
    "nbgrader": {
     "cell_type": "markdown",
     "checksum": "5d0f43819c4b8f6a1c36f995ab2c0148",
     "grade": false,
     "grade_id": "cell-73da9dcb755dae55",
     "locked": true,
     "schema_version": 3,
     "solution": false
    }
   },
   "source": [
    "Thanks to some defaults in `seaborn`, the order of gender may be switched around, so females are listed first and are blue all of a sudden. If you didn't notice this, you could misinterpret the results from your analysis! **To avoid this, regenerate this plot using specifying that you want \"Male\" to be plotted before \"Female\", to be consistent with plot colors earlier.** (If your colors did not swap, go ahead and practice this anyway!)\n",
    "\n",
    "### Assign your seaborn plot to a variable named `plot_reorder`."
   ]
  },
  {
   "cell_type": "code",
   "execution_count": 13,
   "metadata": {
    "deletable": false,
    "nbgrader": {
     "cell_type": "code",
     "checksum": "f41c7690f3e7cb1edd1f838e5f3d95b8",
     "grade": false,
     "grade_id": "cell-76ee1fba408ba708",
     "locked": false,
     "schema_version": 3,
     "solution": true
    }
   },
   "outputs": [
    {
     "data": {
      "text/plain": [
       "Text(0.5, 1.0, 'Proportion of Respondents Who Cheated by Gender')"
      ]
     },
     "execution_count": 13,
     "metadata": {},
     "output_type": "execute_result"
    },
    {
     "data": {
      "image/png": "[encoded data removed]",
      "text/plain": [
       "<Figure size 720x360 with 1 Axes>"
      ]
     },
     "metadata": {},
     "output_type": "display_data"
    }
   ],
   "source": [
    "# Assign your seaborn plot to a variable named `plot_reorder`.\n",
    "\n",
    "plot_reorder = sns.barplot(x='gender', y='proportion', hue='cheated', data=prop_df, order=['Male', 'Female'])\n",
    "plt.title('Proportion of Respondents Who Cheated by Gender')"
   ]
  },
  {
   "cell_type": "code",
   "execution_count": 14,
   "metadata": {
    "deletable": false,
    "editable": false,
    "nbgrader": {
     "cell_type": "code",
     "checksum": "74eba2e13ff9501b69f8e88bc829aa2b",
     "grade": true,
     "grade_id": "cell-67a8cd9f6e228e85",
     "locked": true,
     "points": 0.25,
     "schema_version": 3,
     "solution": false,
     "task": false
    }
   },
   "outputs": [],
   "source": [
    "# TESTING CELL, PLEASE DO NOT EDIT"
   ]
  },
  {
   "cell_type": "markdown",
   "metadata": {
    "deletable": false,
    "editable": false,
    "nbgrader": {
     "cell_type": "markdown",
     "checksum": "3cc52dc07c0684e25566f0008ed3a96d",
     "grade": false,
     "grade_id": "cell-0280ce7fdc880685",
     "locked": true,
     "schema_version": 3,
     "solution": false
    }
   },
   "source": [
    "Great! Now we can answer our original question: Who cheats more on their significant other - males or females?\n",
    "    \n",
    "Include your answer in the cell below! "
   ]
  },
  {
   "cell_type": "markdown",
   "metadata": {
    "deletable": false,
    "nbgrader": {
     "cell_type": "markdown",
     "checksum": "6d588beaeab6c2822a2c6e57ed4ed96c",
     "grade": true,
     "grade_id": "cell-f9fd9599d5b7b165",
     "locked": false,
     "points": 0.1,
     "schema_version": 3,
     "solution": true
    }
   },
   "source": [
    "Males."
   ]
  },
  {
   "cell_type": "markdown",
   "metadata": {
    "deletable": false,
    "editable": false,
    "nbgrader": {
     "cell_type": "markdown",
     "checksum": "f5d8ae824d7d2d5620b33b1010a9fd37",
     "grade": false,
     "grade_id": "cell-c1ffecea698922e2",
     "locked": true,
     "schema_version": 3,
     "solution": false
    }
   },
   "source": [
    "A quick reminder here that we are working with survey data, which people can lie on *and* only have information from 550 individuals who chose to respond to this survey. So, assuming people were honest (they aren't always on surveys!) it answers the question in this dataset, but we don't know if it generalizes more broadly."
   ]
  },
  {
   "cell_type": "markdown",
   "metadata": {
    "deletable": false,
    "editable": false,
    "nbgrader": {
     "cell_type": "markdown",
     "checksum": "5e573e09d41f86d5c2ec419026d23c56",
     "grade": false,
     "grade_id": "cell-9174c683409888f1",
     "locked": true,
     "schema_version": 3,
     "solution": false
    }
   },
   "source": [
    "# Part II : Risky Behavior\n",
    "\n",
    "With Part I under our belts, let's answer the question: *Are cigarette smokers less likely to skydive?* The idea here is that skydiving and cigarette smoking are both considered risky behaviors, so we want to see if there's a relationship between the two."
   ]
  },
  {
   "cell_type": "markdown",
   "metadata": {
    "deletable": false,
    "editable": false,
    "nbgrader": {
     "cell_type": "markdown",
     "checksum": "de83349164ef58111a96d27ed8c492d1",
     "grade": false,
     "grade_id": "cell-b7ce3632e1de6924",
     "locked": true,
     "schema_version": 3,
     "solution": false
    }
   },
   "source": [
    "Using similar approaches to what you did above, **generate a plot that answers the proposed question.** (Note that you'll likely want to use different colors for this plot than those used above, as to not have readers think the colors here represent the same categories!)\n",
    "\n",
    "### Assign your seaborn plot to a variable named `plot_skydiving`."
   ]
  },
  {
   "cell_type": "code",
   "execution_count": 15,
   "metadata": {
    "deletable": false,
    "nbgrader": {
     "cell_type": "code",
     "checksum": "9c40a85a1daeda9e1c414929509f9787",
     "grade": false,
     "grade_id": "cell-ce81a04314b82d7f",
     "locked": false,
     "schema_version": 3,
     "solution": true
    }
   },
   "outputs": [
    {
     "name": "stdout",
     "output_type": "stream",
     "text": [
      "  smoking skydiving  proportion\n",
      "0      No        No        0.93\n",
      "1      No       Yes        0.07\n",
      "2     Yes        No        0.93\n",
      "3     Yes       Yes        0.07\n"
     ]
    },
    {
     "data": {
      "text/plain": [
       "Text(0.5, 1.0, 'Proportion of Respondents Who Skydive by Cigarette Smoking')"
      ]
     },
     "execution_count": 15,
     "metadata": {},
     "output_type": "execute_result"
    },
    {
     "data": {
      "image/png": "[encoded data removed]",
      "text/plain": [
       "<Figure size 720x360 with 1 Axes>"
      ]
     },
     "metadata": {},
     "output_type": "display_data"
    }
   ],
   "source": [
    "#  Assign your seaborn plot to a variable named `plot_skydiving`.\n",
    "\n",
    "risky = survey[['smoking','skydiving']].groupby('smoking').value_counts(normalize=True).explode().reset_index() \n",
    "print(risky)\n",
    "plot_skydiving = sns.barplot(x='smoking', y = 'proportion', hue = 'skydiving', data = risky, palette='Set2')\n",
    "plt.title('Proportion of Respondents Who Skydive by Cigarette Smoking')"
   ]
  },
  {
   "cell_type": "code",
   "execution_count": 16,
   "metadata": {
    "deletable": false,
    "editable": false,
    "nbgrader": {
     "cell_type": "code",
     "checksum": "07fc1153d5242ecc48e451705ca41154",
     "grade": true,
     "grade_id": "cell-04f94ab3c95ced7b",
     "locked": true,
     "points": 0.25,
     "schema_version": 3,
     "solution": false,
     "task": false
    }
   },
   "outputs": [],
   "source": [
    "# TESTING CELL, PLEASE DO NOT EDIT"
   ]
  },
  {
   "cell_type": "markdown",
   "metadata": {
    "deletable": false,
    "editable": false,
    "nbgrader": {
     "cell_type": "markdown",
     "checksum": "fc0aedb58ea407ea00d87eb984cec3f3",
     "grade": false,
     "grade_id": "cell-415a87df41481b0e",
     "locked": true,
     "schema_version": 3,
     "solution": false
    }
   },
   "source": [
    "Take a look at what you've generated. What's your conclusion? Is it what you expected? Does anything look weird? Did you change your colors so that they aren't the same as your above plot where blue and orange represented males and females? Include your interpretation and answer to the question below."
   ]
  },
  {
   "cell_type": "markdown",
   "metadata": {
    "deletable": false,
    "nbgrader": {
     "cell_type": "markdown",
     "checksum": "40662f10b1c66a0347f8899e377f7bad",
     "grade": true,
     "grade_id": "cell-f54c9329a294ea2a",
     "locked": false,
     "points": 0.1,
     "schema_version": 3,
     "solution": true
    }
   },
   "source": [
    "There is no correlation betwen smoking and skydiving, as the proportions are equal regardless of whether someone smokes or not. This is not what we expected given our preconceived notion of both being a risky behaviors. I changed the colors using a set palette."
   ]
  },
  {
   "cell_type": "markdown",
   "metadata": {
    "deletable": false,
    "editable": false,
    "nbgrader": {
     "cell_type": "markdown",
     "checksum": "947f79c60a4e6006e1703ff657b44451",
     "grade": false,
     "grade_id": "cell-edb6565faf3f57a8",
     "locked": true,
     "schema_version": 3,
     "solution": false
    }
   },
   "source": [
    "# Part III : Gambling\n",
    "\n",
    "Finally, let's answer the question: *Do people in New England gamble more than other parts of the country?* **Generate a plot that allows you to answer this question given the data you have in your dataset.** A reminder that you likely want to consider plot type, orientation, and colors when generating this figure.\n",
    "\n",
    "### Assign your seaborn plot to a variable named `plot_gambling`."
   ]
  },
  {
   "cell_type": "code",
   "execution_count": 17,
   "metadata": {
    "deletable": false,
    "nbgrader": {
     "cell_type": "code",
     "checksum": "9a4ceb3c7220e537a467197f185ab92c",
     "grade": false,
     "grade_id": "cell-f5cb3b78cea59d30",
     "locked": false,
     "schema_version": 3,
     "solution": true
    }
   },
   "outputs": [
    {
     "name": "stdout",
     "output_type": "stream",
     "text": [
      "                region gambling  count  proportion\n",
      "0   East North Central       No     45        0.53\n",
      "1   East North Central      Yes     40        0.47\n",
      "2   East South Central       No     12        0.50\n",
      "..                 ...      ...    ...         ...\n",
      "15  West North Central      Yes     22        0.52\n",
      "16  West South Central       No     18        0.60\n",
      "17  West South Central      Yes     12        0.40\n",
      "\n",
      "[18 rows x 4 columns]\n"
     ]
    },
    {
     "data": {
      "text/plain": [
       "Text(0.5, 1.0, 'Gambling Habits Proportions Across Regions')"
      ]
     },
     "execution_count": 17,
     "metadata": {},
     "output_type": "execute_result"
    },
    {
     "data": {
      "image/png": "[encoded data removed]",
      "text/plain": [
       "<Figure size 720x360 with 1 Axes>"
      ]
     },
     "metadata": {},
     "output_type": "display_data"
    }
   ],
   "source": [
    "# Assign your seaborn plot to a variable named `plot_gambling`.\n",
    "\n",
    "gambling = survey[['region', 'gambling']].groupby(['region', 'gambling']).size().reset_index(name='count')\n",
    "gambling['proportion'] = gambling.groupby('region')['count'].transform(lambda x: x / x.sum())\n",
    "print(gambling)\n",
    "plot_gambling = sns.barplot(x='proportion', y='region', hue='gambling', data=gambling, palette='Set1')\n",
    "plt.title('Gambling Habits Proportions Across Regions')"
   ]
  },
  {
   "cell_type": "code",
   "execution_count": 18,
   "metadata": {
    "deletable": false,
    "editable": false,
    "nbgrader": {
     "cell_type": "code",
     "checksum": "fcf9c4004e17fa1d149ead86d39ca9c6",
     "grade": true,
     "grade_id": "cell-343287f448e9d2fb",
     "locked": true,
     "points": 0.25,
     "schema_version": 3,
     "solution": false,
     "task": false
    }
   },
   "outputs": [],
   "source": [
    "# TESTING CELL, PLEASE DO NOT EDIT"
   ]
  },
  {
   "cell_type": "markdown",
   "metadata": {
    "deletable": false,
    "editable": false,
    "nbgrader": {
     "cell_type": "markdown",
     "checksum": "f541ec6411df8fdc832fd89cbbc968f1",
     "grade": false,
     "grade_id": "cell-088d8969ca94288c",
     "locked": true,
     "schema_version": 3,
     "solution": false
    }
   },
   "source": [
    "Are all your labels visible? Did you consider the orientation of your plot? Also, are the colors different than above? What's the answer to our question? Include interpretation of this plot and answer to the question below:"
   ]
  },
  {
   "cell_type": "markdown",
   "metadata": {
    "deletable": false,
    "nbgrader": {
     "cell_type": "markdown",
     "checksum": "ad4dfd4223e0ca525de8cd880e1a8c36",
     "grade": true,
     "grade_id": "cell-3250cfb2b6afee5f",
     "locked": false,
     "points": 0.1,
     "schema_version": 3,
     "solution": true
    }
   },
   "source": [
    "Yes, I made the plot horizontal to show the labels and data easier. I used another palette for the colors. The answer is New England does not gamble more than other regions."
   ]
  },
  {
   "cell_type": "markdown",
   "metadata": {
    "deletable": false,
    "editable": false,
    "nbgrader": {
     "cell_type": "markdown",
     "checksum": "020c9494d3bbec75418517033762e2af",
     "grade": false,
     "grade_id": "cell-d87e191678aafa4e",
     "locked": true,
     "schema_version": 3,
     "solution": false
    },
    "slideshow": {
     "slide_type": "fragment"
    }
   },
   "source": [
    "Feel free to explore additional variables in the data or customize the plots you've generated here to improve them. Feel free to share and discuss with your classmates!"
   ]
  }
 ],
 "metadata": {
  "kernelspec": {
   "display_name": "Python 3 (ipykernel)",
   "language": "python",
   "name": "python3"
  },
  "language_info": {
   "codemirror_mode": {
    "name": "ipython",
    "version": 3
   },
   "file_extension": ".py",
   "mimetype": "text/x-python",
   "name": "python",
   "nbconvert_exporter": "python",
   "pygments_lexer": "ipython3",
   "version": "3.9.5"
  }
 },
 "nbformat": 4,
 "nbformat_minor": 2
}
