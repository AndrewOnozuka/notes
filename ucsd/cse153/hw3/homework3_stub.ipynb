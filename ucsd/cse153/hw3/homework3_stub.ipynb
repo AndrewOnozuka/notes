{
 "cells": [
  {
   "cell_type": "markdown",
   "metadata": {},
   "source": [
    "## Homework 3: Symbolic Music Generation Using Markov Chains"
   ]
  },
  {
   "cell_type": "markdown",
   "metadata": {},
   "source": [
    "**Before starting the homework:**\n",
    "\n",
    "Please run `pip install miditok` to install the [MiDiTok](https://github.com/Natooz/MidiTok) package, which simplifies MIDI file processing by making note and beat extraction more straightforward.\n",
    "\n",
    "You’re also welcome to experiment with other MIDI processing libraries such as [mido](https://github.com/mido/mido), [pretty_midi](https://github.com/craffel/pretty-midi) and [miditoolkit](https://github.com/YatingMusic/miditoolkit). However, with these libraries, you’ll need to handle MIDI quantization yourself, for example, converting note-on/note-off events into beat positions and durations."
   ]
  },
  {
   "cell_type": "code",
   "execution_count": 1,
   "metadata": {},
   "outputs": [],
   "source": [
    "# run this command to install MiDiTok\n",
    "# ! pip install miditok"
   ]
  },
  {
   "cell_type": "code",
   "execution_count": 2,
   "metadata": {},
   "outputs": [],
   "source": [
    "# import required packages\n",
    "import random\n",
    "from glob import glob\n",
    "from collections import defaultdict\n",
    "\n",
    "import numpy as np\n",
    "from numpy.random import choice\n",
    "\n",
    "from symusic import Score\n",
    "from miditok import REMI, TokenizerConfig\n",
    "from midiutil import MIDIFile"
   ]
  },
  {
   "cell_type": "code",
   "execution_count": 3,
   "metadata": {},
   "outputs": [],
   "source": [
    "# You can change the random seed but try to keep your results deterministic!\n",
    "# If I need to make changes to the autograder it'll require rerunning your code,\n",
    "# so it should ideally generate the same results each time.\n",
    "random.seed(42)"
   ]
  },
  {
   "cell_type": "markdown",
   "metadata": {},
   "source": [
    "### Load music dataset\n",
    "We will use a subset of the [PDMX dataset](https://zenodo.org/records/14984509). \n",
    "\n",
    "Please find the link in the homework spec.\n",
    "\n",
    "All pieces are monophonic music (i.e. one melody line) in 4/4 time signature."
   ]
  },
  {
   "cell_type": "code",
   "execution_count": 4,
   "metadata": {},
   "outputs": [
    {
     "data": {
      "text/plain": [
       "1000"
      ]
     },
     "execution_count": 4,
     "metadata": {},
     "output_type": "execute_result"
    }
   ],
   "source": [
    "midi_files = glob('PDMX_subset/*.mid')\n",
    "len(midi_files)"
   ]
  },
  {
   "cell_type": "markdown",
   "metadata": {},
   "source": [
    "### Train a tokenizer with the REMI method in MidiTok"
   ]
  },
  {
   "cell_type": "code",
   "execution_count": 5,
   "metadata": {},
   "outputs": [
    {
     "name": "stdout",
     "output_type": "stream",
     "text": [
      "\n",
      "\n",
      "\n"
     ]
    }
   ],
   "source": [
    "config = TokenizerConfig(num_velocities=1, use_chords=False, use_programs=False)\n",
    "tokenizer = REMI(config)\n",
    "tokenizer.train(vocab_size=1000, files_paths=midi_files)"
   ]
  },
  {
   "cell_type": "markdown",
   "metadata": {},
   "source": [
    "### Use the trained tokenizer to get tokens for each midi file\n",
    "In REMI representation, each note will be represented with four tokens: `Position, Pitch, Velocity, Duration`, e.g. `('Position_28', 'Pitch_74', 'Velocity_127', 'Duration_0.4.8')`; a `Bar_None` token indicates the beginning of a new bar."
   ]
  },
  {
   "cell_type": "code",
   "execution_count": 6,
   "metadata": {},
   "outputs": [
    {
     "data": {
      "text/plain": [
       "['Bar_None',\n",
       " 'Position_0',\n",
       " 'Pitch_66',\n",
       " 'Velocity_127',\n",
       " 'Duration_1.0.8',\n",
       " 'Position_8',\n",
       " 'Pitch_66',\n",
       " 'Velocity_127',\n",
       " 'Duration_0.2.8',\n",
       " 'Position_10']"
      ]
     },
     "execution_count": 6,
     "metadata": {},
     "output_type": "execute_result"
    }
   ],
   "source": [
    "# e.g.:\n",
    "midi = Score(midi_files[0])\n",
    "tokens = tokenizer(midi)[0].tokens\n",
    "tokens[:10]"
   ]
  },
  {
   "cell_type": "markdown",
   "metadata": {},
   "source": [
    "1. Write a function to extract note pitch events from a midi file; and another extract all note pitch events from the dataset and output a dictionary that maps note pitch events to the number of times they occur in the files. (e.g. {60: 120, 61: 58, …}).\n",
    "\n",
    "`note_extraction()`\n",
    "- **Input**: a midi file\n",
    "\n",
    "- **Output**: a list of note pitch events (e.g. [60, 62, 61, ...])\n",
    "\n",
    "`note_frequency()`\n",
    "- **Input**: all midi files `midi_files`\n",
    "\n",
    "- **Output**: a dictionary that maps note pitch events to the number of times they occur, e.g {60: 120, 61: 58, …}"
   ]
  },
  {
   "cell_type": "code",
   "execution_count": 7,
   "metadata": {},
   "outputs": [],
   "source": [
    "def note_extraction(midi_file):\n",
    "    midi = Score.from_midi(open(midi_file, \"rb\").read())\n",
    "    return [note.pitch for note in midi.notes]"
   ]
  },
  {
   "cell_type": "code",
   "execution_count": 8,
   "metadata": {},
   "outputs": [],
   "source": [
    "def note_frequency(midi_files):\n",
    "    pitch_counts = defaultdict(int)\n",
    "    for file in midi_files:\n",
    "        notes = note_extraction(file)\n",
    "        for pitch in notes:\n",
    "            pitch_counts[pitch] += 1\n",
    "    return dict(pitch_counts)"
   ]
  },
  {
   "cell_type": "markdown",
   "metadata": {},
   "source": [
    "2. Write a function to normalize the above dictionary to produce probability scores (e.g. {60: 0.13, 61: 0.065, …})\n",
    "\n",
    "`note_unigram_probability()`\n",
    "- **Input**: all midi files `midi_files`\n",
    "\n",
    "- **Output**: a dictionary that maps note pitch events to probabilities, e.g. {60: 0.13, 61: 0.06, …}"
   ]
  },
  {
   "cell_type": "code",
   "execution_count": 9,
   "metadata": {},
   "outputs": [],
   "source": [
    "def note_unigram_probability(midi_files):\n",
    "    note_counts = note_frequency(midi_files)\n",
    "    total_count = sum(note_counts.values())\n",
    "    unigramProbabilities = {}\n",
    "\n",
    "    for pitch, count in note_counts.items():\n",
    "        unigramProbabilities[pitch] = count / total_count\n",
    "\n",
    "    return unigramProbabilities"
   ]
  },
  {
   "cell_type": "markdown",
   "metadata": {},
   "source": [
    "3. Generate a table of pairwise probabilities containing p(next_note | previous_note) values for the dataset; write a function that randomly generates the next note based on the previous note based on this distribution.\n",
    "\n",
    "`note_bigram_probability()`\n",
    "- **Input**: all midi files `midi_files`\n",
    "\n",
    "- **Output**: two dictionaries:\n",
    "\n",
    "  - `bigramTransitions`: key: previous_note, value: a list of next_note, e.g. {60:[62, 64, ..], 62:[60, 64, ..], ...} (i.e., this is a list of every other note that occured after note 60, every note that occured after note 62, etc.)\n",
    "\n",
    "  - `bigramTransitionProbabilities`: key:previous_note, value: a list of probabilities for next_note in the same order of `bigramTransitions`, e.g. {60:[0.3, 0.4, ..], 62:[0.2, 0.1, ..], ...} (i.e., you are converting the values above to probabilities)\n",
    "\n",
    "`sample_next_note()`\n",
    "- **Input**: a note\n",
    "\n",
    "- **Output**: next note sampled from pairwise probabilities"
   ]
  },
  {
   "cell_type": "code",
   "execution_count": 10,
   "metadata": {},
   "outputs": [],
   "source": [
    "def note_bigram_probability(midi_files):\n",
    "    bigramTransitions = defaultdict(list)\n",
    "    bigramTransitionProbabilities = {}\n",
    "\n",
    "    bigramCounts = defaultdict(lambda: defaultdict(int))\n",
    "\n",
    "    for file in midi_files:\n",
    "        notes = note_extraction(file)\n",
    "        for i in range(len(notes) - 1):\n",
    "            prev_note = notes[i]\n",
    "            next_note = notes[i + 1]\n",
    "            bigramCounts[prev_note][next_note] += 1\n",
    "\n",
    "    for prev_note, next_notes_dict in bigramCounts.items():\n",
    "        next_notes = list(next_notes_dict.keys())\n",
    "        counts = list(next_notes_dict.values())\n",
    "        total = sum(counts)\n",
    "        probs = [count / total for count in counts]\n",
    "\n",
    "        bigramTransitions[prev_note] = next_notes\n",
    "        bigramTransitionProbabilities[prev_note] = probs\n",
    "\n",
    "    return bigramTransitions, bigramTransitionProbabilities"
   ]
  },
  {
   "cell_type": "code",
   "execution_count": 11,
   "metadata": {},
   "outputs": [],
   "source": [
    "def sample_next_note(note):\n",
    "    if note not in bigramTransitions:\n",
    "        return random.choice(list(bigramTransitions.keys()))\n",
    "    return random.choices(\n",
    "        population=bigramTransitions[note],\n",
    "        weights=bigramTransitionProbabilities[note]\n",
    "    )[0]"
   ]
  },
  {
   "cell_type": "markdown",
   "metadata": {},
   "source": [
    "4. Write a function to calculate the perplexity of your model on a midi file.\n",
    "\n",
    "    The perplexity of a model is defined as \n",
    "\n",
    "    $\\quad \\text{exp}(-\\frac{1}{N} \\sum_{i=1}^N \\text{log}(p(w_i|w_{i-1})))$\n",
    "\n",
    "    where $p(w_1|w_0) = p(w_1)$, $p(w_i|w_{i-1}) (i>1)$ refers to the pairwise probability p(next_note | previous_note).\n",
    "\n",
    "`note_bigram_perplexity()`\n",
    "- **Input**: a midi file\n",
    "\n",
    "- **Output**: perplexity value"
   ]
  },
  {
   "cell_type": "code",
   "execution_count": 12,
   "metadata": {},
   "outputs": [],
   "source": [
    "def note_bigram_perplexity(midi_file):\n",
    "    unigramProbabilities = note_unigram_probability(midi_files)\n",
    "    bigramTransitions, bigramTransitionProbabilities = note_bigram_probability(midi_files)\n",
    "\n",
    "    notes = note_extraction(midi_file)\n",
    "    if len(notes) < 2:\n",
    "        return float('inf')  # not enough data to compute perplexity\n",
    "\n",
    "    log_probs = []\n",
    "\n",
    "    for i in range(len(notes)):\n",
    "        if i == 0:\n",
    "            prob = unigramProbabilities.get(notes[i], 1e-12)  # fallback to small prob\n",
    "        else:\n",
    "            prev = notes[i - 1]\n",
    "            curr = notes[i]\n",
    "            if prev in bigramTransitions and curr in bigramTransitions[prev]:\n",
    "                idx = bigramTransitions[prev].index(curr)\n",
    "                prob = bigramTransitionProbabilities[prev][idx]\n",
    "            else:\n",
    "                prob = 1e-12  # small fallback probability for unseen bigrams\n",
    "\n",
    "        log_probs.append(np.log(prob))\n",
    "\n",
    "    perplexity = np.exp(-np.mean(log_probs))\n",
    "    return perplexity"
   ]
  },
  {
   "cell_type": "markdown",
   "metadata": {},
   "source": [
    "5. Implement a second-order Markov chain, i.e., one which estimates p(next_note | next_previous_note, previous_note); write a function to compute the perplexity of this new model on a midi file. \n",
    "\n",
    "    The perplexity of this model is defined as \n",
    "\n",
    "    $\\quad \\text{exp}(-\\frac{1}{N} \\sum_{i=1}^N \\text{log}(p(w_i|w_{i-2}, w_{i-1})))$\n",
    "\n",
    "    where $p(w_1|w_{-1}, w_0) = p(w_1)$, $p(w_2|w_0, w_1) = p(w_2|w_1)$, $p(w_i|w_{i-2}, w_{i-1}) (i>2)$ refers to the probability p(next_note | next_previous_note, previous_note).\n",
    "\n",
    "\n",
    "`note_trigram_probability()`\n",
    "- **Input**: all midi files `midi_files`\n",
    "\n",
    "- **Output**: two dictionaries:\n",
    "\n",
    "  - `trigramTransitions`: key - (next_previous_note, previous_note), value - a list of next_note, e.g. {(60, 62):[64, 66, ..], (60, 64):[60, 64, ..], ...}\n",
    "\n",
    "  - `trigramTransitionProbabilities`: key: (next_previous_note, previous_note), value: a list of probabilities for next_note in the same order of `trigramTransitions`, e.g. {(60, 62):[0.2, 0.2, ..], (60, 64):[0.4, 0.1, ..], ...}\n",
    "\n",
    "`note_trigram_perplexity()`\n",
    "- **Input**: a midi file\n",
    "\n",
    "- **Output**: perplexity value"
   ]
  },
  {
   "cell_type": "code",
   "execution_count": 13,
   "metadata": {},
   "outputs": [],
   "source": [
    "def note_trigram_probability(midi_files):\n",
    "    trigramTransitions = defaultdict(list)\n",
    "    trigramTransitionProbabilities = defaultdict(list)\n",
    "\n",
    "    # Step 1: Count trigram occurrences\n",
    "    trigramCounts = defaultdict(lambda: defaultdict(int))\n",
    "\n",
    "    for file in midi_files:\n",
    "        notes = note_extraction(file)\n",
    "        for i in range(2, len(notes)):\n",
    "            prev_prev = notes[i - 2]\n",
    "            prev = notes[i - 1]\n",
    "            curr = notes[i]\n",
    "            key = (prev_prev, prev)\n",
    "            trigramCounts[key][curr] += 1\n",
    "\n",
    "    # Step 2: Convert counts to transitions and probabilities\n",
    "    for key, next_note_dict in trigramCounts.items():\n",
    "        next_notes = list(next_note_dict.keys())\n",
    "        counts = list(next_note_dict.values())\n",
    "        total = sum(counts)\n",
    "        probs = [count / total for count in counts]\n",
    "\n",
    "        trigramTransitions[key] = next_notes\n",
    "        trigramTransitionProbabilities[key] = probs\n",
    "\n",
    "    return trigramTransitions, trigramTransitionProbabilities"
   ]
  },
  {
   "cell_type": "code",
   "execution_count": 14,
   "metadata": {},
   "outputs": [],
   "source": [
    "def note_trigram_perplexity(midi_file):\n",
    "    unigramProbabilities = note_unigram_probability(midi_files)\n",
    "    bigramTransitions, bigramTransitionProbabilities = note_bigram_probability(midi_files)\n",
    "    trigramTransitions, trigramTransitionProbabilities = note_trigram_probability(midi_files)\n",
    "\n",
    "    notes = note_extraction(midi_file)\n",
    "    if len(notes) < 3:\n",
    "        return float('inf')  # not enough notes for trigram\n",
    "\n",
    "    log_probs = []\n",
    "\n",
    "    for i in range(len(notes)):\n",
    "        if i == 0:\n",
    "            # p(w1) ~ unigram\n",
    "            prob = unigramProbabilities.get(notes[i], 1e-12)\n",
    "        elif i == 1:\n",
    "            # p(w2|w1) ~ bigram\n",
    "            prev = notes[i - 1]\n",
    "            curr = notes[i]\n",
    "            if prev in bigramTransitions and curr in bigramTransitions[prev]:\n",
    "                idx = bigramTransitions[prev].index(curr)\n",
    "                prob = bigramTransitionProbabilities[prev][idx]\n",
    "            else:\n",
    "                prob = 1e-12\n",
    "        else:\n",
    "            # p(w_i | w_{i-2}, w_{i-1}) ~ trigram\n",
    "            prev_prev = notes[i - 2]\n",
    "            prev = notes[i - 1]\n",
    "            curr = notes[i]\n",
    "            key = (prev_prev, prev)\n",
    "            if key in trigramTransitions and curr in trigramTransitions[key]:\n",
    "                idx = trigramTransitions[key].index(curr)\n",
    "                prob = trigramTransitionProbabilities[key][idx]\n",
    "            else:\n",
    "                prob = 1e-12\n",
    "\n",
    "        log_probs.append(np.log(prob))\n",
    "\n",
    "    perplexity = np.exp(-np.mean(log_probs))\n",
    "    return perplexity"
   ]
  },
  {
   "cell_type": "markdown",
   "metadata": {},
   "source": [
    "6. Our model currently doesn’t have any knowledge of beats. Write a function that extracts beat lengths and outputs a list of [(beat position; beat length)] values.\n",
    "\n",
    "    Recall that each note will be encoded as `Position, Pitch, Velocity, Duration` using REMI. Please keep the `Position` value for beat position, and convert `Duration` to beat length using provided lookup table `duration2length` (see below).\n",
    "\n",
    "    For example, for a note represented by four tokens `('Position_24', 'Pitch_72', 'Velocity_127', 'Duration_0.4.8')`, the extracted (beat position; beat length) value is `(24, 4)`.\n",
    "\n",
    "    As a result, we will obtain a list like [(0,8),(8,16),(24,4),(28,4),(0,4)...], where the next beat position is the previous beat position + the beat length. As we divide each bar into 32 positions by default, when reaching the end of a bar (i.e. 28 + 4 = 32 in the case of (28, 4)), the beat position reset to 0."
   ]
  },
  {
   "cell_type": "code",
   "execution_count": 15,
   "metadata": {},
   "outputs": [],
   "source": [
    "duration2length = {\n",
    "    '0.2.8': 2,  # sixteenth note, 0.25 beat in 4/4 time signature\n",
    "    '0.4.8': 4,  # eighth note, 0.5 beat in 4/4 time signature\n",
    "    '1.0.8': 8,  # quarter note, 1 beat in 4/4 time signature\n",
    "    '2.0.8': 16, # half note, 2 beats in 4/4 time signature\n",
    "    '4.0.4': 32, # whole note, 4 beats in 4/4 time signature\n",
    "}"
   ]
  },
  {
   "cell_type": "markdown",
   "metadata": {},
   "source": [
    "`beat_extraction()`\n",
    "- **Input**: a midi file\n",
    "\n",
    "- **Output**: a list of (beat position; beat length) values"
   ]
  },
  {
   "cell_type": "code",
   "execution_count": 16,
   "metadata": {},
   "outputs": [],
   "source": [
    "def beat_extraction(midi_file):\n",
    "    # Tokenizer setup (must match what we trained with)\n",
    "    config = TokenizerConfig(num_velocities=1, use_chords=False, use_programs=False)\n",
    "    tokenizer = REMI(config)\n",
    "\n",
    "    midi = Score(midi_file)\n",
    "    tokens = tokenizer(midi)[0].tokens\n",
    "\n",
    "    duration2length = {\n",
    "        '0.2.8': 2,  # sixteenth note\n",
    "        '0.4.8': 4,  # eighth note\n",
    "        '1.0.8': 8,  # quarter note\n",
    "        '2.0.8': 16, # half note\n",
    "        '4.0.4': 32  # whole note\n",
    "    }\n",
    "\n",
    "    beat_position = 0\n",
    "    beat_sequence = []\n",
    "\n",
    "    i = 0\n",
    "    while i < len(tokens) - 3:\n",
    "        # Look for a sequence like: Position, Pitch, Velocity, Duration\n",
    "        if tokens[i].startswith(\"Position_\") and \\\n",
    "           tokens[i+1].startswith(\"Pitch_\") and \\\n",
    "           tokens[i+2].startswith(\"Velocity_\") and \\\n",
    "           tokens[i+3].startswith(\"Duration_\"):\n",
    "\n",
    "            pos = int(tokens[i].split(\"_\")[1])\n",
    "            dur_str = tokens[i+3].split(\"_\")[1]\n",
    "\n",
    "            # Convert duration to length using lookup\n",
    "            if dur_str in duration2length:\n",
    "                beat_len = duration2length[dur_str]\n",
    "                beat_sequence.append((pos, beat_len))\n",
    "            i += 4  # advance past this note\n",
    "        else:\n",
    "            i += 1  # move forward if format doesn't match\n",
    "\n",
    "    return beat_sequence"
   ]
  },
  {
   "cell_type": "markdown",
   "metadata": {},
   "source": [
    "7. Implement a Markov chain that computes p(beat_length | previous_beat_length) based on the above function.\n",
    "\n",
    "`beat_bigram_probability()`\n",
    "- **Input**: all midi files `midi_files`\n",
    "\n",
    "- **Output**: two dictionaries:\n",
    "\n",
    "  - `bigramBeatTransitions`: key: previous_beat_length, value: a list of beat_length, e.g. {4:[8, 2, ..], 8:[8, 4, ..], ...}\n",
    "\n",
    "  - `bigramBeatTransitionProbabilities`: key - previous_beat_length, value - a list of probabilities for beat_length in the same order of `bigramBeatTransitions`, e.g. {4:[0.3, 0.2, ..], 8:[0.4, 0.4, ..], ...}"
   ]
  },
  {
   "cell_type": "code",
   "execution_count": 17,
   "metadata": {},
   "outputs": [],
   "source": [
    "def beat_bigram_probability(midi_files):\n",
    "    bigramBeatTransitions = defaultdict(list)\n",
    "    bigramBeatTransitionProbabilities = defaultdict(list)\n",
    "    \n",
    "    # Count bigram transitions\n",
    "    beatCounts = defaultdict(lambda: defaultdict(int))\n",
    "\n",
    "    for file in midi_files:\n",
    "        beats = beat_extraction(file)\n",
    "        beat_lengths = [length for _, length in beats]\n",
    "\n",
    "        for i in range(len(beat_lengths) - 1):\n",
    "            prev_len = beat_lengths[i]\n",
    "            curr_len = beat_lengths[i + 1]\n",
    "            beatCounts[prev_len][curr_len] += 1\n",
    "\n",
    "    # Convert to transition lists and probabilities\n",
    "    for prev_len, next_len_dict in beatCounts.items():\n",
    "        next_lengths = list(next_len_dict.keys())\n",
    "        counts = list(next_len_dict.values())\n",
    "        total = sum(counts)\n",
    "        probs = [count / total for count in counts]\n",
    "\n",
    "        bigramBeatTransitions[prev_len] = next_lengths\n",
    "        bigramBeatTransitionProbabilities[prev_len] = probs\n",
    "    \n",
    "    return bigramBeatTransitions, bigramBeatTransitionProbabilities"
   ]
  },
  {
   "cell_type": "markdown",
   "metadata": {},
   "source": [
    "8. Implement a function to compute p(beat length | beat position), and compute the perplexity of your models from Q7 and Q8. For both models, we only consider the probabilities of predicting the sequence of **beat lengths**.\n",
    "\n",
    "`beat_pos_bigram_probability()`\n",
    "- **Input**: all midi files `midi_files`\n",
    "\n",
    "- **Output**: two dictionaries:\n",
    "\n",
    "  - `bigramBeatPosTransitions`: key - beat_position, value - a list of beat_length\n",
    "\n",
    "  - `bigramBeatPosTransitionProbabilities`: key - beat_position, value - a list of probabilities for beat_length in the same order of `bigramBeatPosTransitions`\n",
    "\n",
    "`beat_bigram_perplexity()`\n",
    "- **Input**: a midi file\n",
    "\n",
    "- **Output**: two perplexity values correspond to the models in Q7 and Q8, respectively"
   ]
  },
  {
   "cell_type": "code",
   "execution_count": 18,
   "metadata": {},
   "outputs": [],
   "source": [
    "def beat_pos_bigram_probability(midi_files):\n",
    "    bigramBeatPosTransitions = defaultdict(list)\n",
    "    bigramBeatPosTransitionProbabilities = defaultdict(list)\n",
    "    \n",
    "    # Count (position → beat_length) transitions\n",
    "    beatPosCounts = defaultdict(lambda: defaultdict(int))\n",
    "\n",
    "    for file in midi_files:\n",
    "        beats = beat_extraction(file)\n",
    "        for pos, length in beats:\n",
    "            beatPosCounts[pos][length] += 1\n",
    "\n",
    "    # Convert to transition lists and probabilities\n",
    "    for pos, length_dict in beatPosCounts.items():\n",
    "        next_lengths = list(length_dict.keys())\n",
    "        counts = list(length_dict.values())\n",
    "        total = sum(counts)\n",
    "        probs = [count / total for count in counts]\n",
    "\n",
    "        bigramBeatPosTransitions[pos] = next_lengths\n",
    "        bigramBeatPosTransitionProbabilities[pos] = probs\n",
    "    \n",
    "    return bigramBeatPosTransitions, bigramBeatPosTransitionProbabilities"
   ]
  },
  {
   "cell_type": "code",
   "execution_count": 19,
   "metadata": {},
   "outputs": [],
   "source": [
    "def beat_bigram_perplexity(midi_file):\n",
    "    bigramBeatTransitions, bigramBeatTransitionProbabilities = beat_bigram_probability(midi_files)\n",
    "    bigramBeatPosTransitions, bigramBeatPosTransitionProbabilities = beat_pos_bigram_probability(midi_files)\n",
    "    # Hint: one more probability function needs to be computed\n",
    "\n",
    "    from math import log, exp\n",
    "\n",
    "    beats = beat_extraction(midi_file)\n",
    "    beat_lengths = [length for _, length in beats]\n",
    "    beat_positions = [pos for pos, _ in beats]\n",
    "\n",
    "    log_probs_Q7 = []\n",
    "    log_probs_Q8 = []\n",
    "\n",
    "    for i in range(1, len(beat_lengths)):\n",
    "        prev_len = beat_lengths[i - 1]\n",
    "        curr_len = beat_lengths[i]\n",
    "        pos = beat_positions[i]\n",
    "\n",
    "        # Q7: p(curr_len | prev_len)\n",
    "        if prev_len in bigramBeatTransitions and curr_len in bigramBeatTransitions[prev_len]:\n",
    "            idx = bigramBeatTransitions[prev_len].index(curr_len)\n",
    "            prob_Q7 = bigramBeatTransitionProbabilities[prev_len][idx]\n",
    "        else:\n",
    "            prob_Q7 = 1e-12\n",
    "        log_probs_Q7.append(log(prob_Q7))\n",
    "\n",
    "        # Q8: p(curr_len | position)\n",
    "        if pos in bigramBeatPosTransitions and curr_len in bigramBeatPosTransitions[pos]:\n",
    "            idx = bigramBeatPosTransitions[pos].index(curr_len)\n",
    "            prob_Q8 = bigramBeatPosTransitionProbabilities[pos][idx]\n",
    "        else:\n",
    "            prob_Q8 = 1e-12\n",
    "        log_probs_Q8.append(log(prob_Q8))\n",
    "\n",
    "    perplexity_Q7 = exp(-sum(log_probs_Q7) / len(log_probs_Q7)) if log_probs_Q7 else float('inf')\n",
    "    perplexity_Q8 = exp(-sum(log_probs_Q8) / len(log_probs_Q8)) if log_probs_Q8 else float('inf')\n",
    "    \n",
    "    return perplexity_Q7, perplexity_Q8"
   ]
  },
  {
   "cell_type": "markdown",
   "metadata": {},
   "source": [
    "9. Implement a Markov chain that computes p(beat_length | previous_beat_length, beat_position), and report its perplexity. \n",
    "\n",
    "`beat_trigram_probability()`\n",
    "- **Input**: all midi files `midi_files`\n",
    "\n",
    "- **Output**: two dictionaries:\n",
    "\n",
    "  - `trigramBeatTransitions`: key: (previous_beat_length, beat_position), value: a list of beat_length\n",
    "\n",
    "  - `trigramBeatTransitionProbabilities`: key: (previous_beat_length, beat_position), value: a list of probabilities for beat_length in the same order of `trigramBeatTransitions`\n",
    "\n",
    "`beat_trigram_perplexity()`\n",
    "- **Input**: a midi file\n",
    "\n",
    "- **Output**: perplexity value"
   ]
  },
  {
   "cell_type": "code",
   "execution_count": 20,
   "metadata": {},
   "outputs": [],
   "source": [
    "def beat_trigram_probability(midi_files):\n",
    "    trigramBeatTransitions = defaultdict(list)\n",
    "    trigramBeatTransitionProbabilities = defaultdict(list)\n",
    "\n",
    "    # Count (prev_len, position) → curr_len transitions\n",
    "    trigramCounts = defaultdict(lambda: defaultdict(int))\n",
    "\n",
    "    for file in midi_files:\n",
    "        beats = beat_extraction(file)\n",
    "        for i in range(1, len(beats)):\n",
    "            prev_len = beats[i - 1][1]\n",
    "            curr_pos = beats[i][0]\n",
    "            curr_len = beats[i][1]\n",
    "            key = (prev_len, curr_pos)\n",
    "            trigramCounts[key][curr_len] += 1\n",
    "\n",
    "    # Convert counts to probabilities\n",
    "    for key, next_lengths_dict in trigramCounts.items():\n",
    "        next_lengths = list(next_lengths_dict.keys())\n",
    "        counts = list(next_lengths_dict.values())\n",
    "        total = sum(counts)\n",
    "        probs = [count / total for count in counts]\n",
    "\n",
    "        trigramBeatTransitions[key] = next_lengths\n",
    "        trigramBeatTransitionProbabilities[key] = probs\n",
    "    \n",
    "    return trigramBeatTransitions, trigramBeatTransitionProbabilities"
   ]
  },
  {
   "cell_type": "code",
   "execution_count": 21,
   "metadata": {},
   "outputs": [],
   "source": [
    "def beat_trigram_perplexity(midi_file):\n",
    "    bigramBeatPosTransitions, bigramBeatPosTransitionProbabilities = beat_pos_bigram_probability(midi_files)\n",
    "    trigramBeatTransitions, trigramBeatTransitionProbabilities = beat_trigram_probability(midi_files)\n",
    "    from math import log, exp\n",
    "\n",
    "    beats = beat_extraction(midi_file)\n",
    "    log_probs = []\n",
    "\n",
    "    for i in range(1, len(beats)):\n",
    "        prev_len = beats[i - 1][1]\n",
    "        curr_pos = beats[i][0]\n",
    "        curr_len = beats[i][1]\n",
    "        key = (prev_len, curr_pos)\n",
    "\n",
    "        if key in trigramBeatTransitions and curr_len in trigramBeatTransitions[key]:\n",
    "            idx = trigramBeatTransitions[key].index(curr_len)\n",
    "            prob = trigramBeatTransitionProbabilities[key][idx]\n",
    "        else:\n",
    "            prob = 1e-12\n",
    "\n",
    "        log_probs.append(log(prob))\n",
    "\n",
    "    perplexity = exp(-sum(log_probs) / len(log_probs)) if log_probs else float('inf')\n",
    "    return perplexity"
   ]
  },
  {
   "cell_type": "markdown",
   "metadata": {},
   "source": [
    "10. Use the model from Q5 to generate N notes, and the model from Q8 to generate beat lengths for each note. Save the generated music as a midi file (see code from workbook1) as q10.mid. Remember to reset the beat position to 0 when reaching the end of a bar.\n",
    "\n",
    "`music_generate`\n",
    "- **Input**: target length, e.g. 500\n",
    "\n",
    "- **Output**: a midi file q10.mid\n",
    "\n",
    "Note: the duration of one beat in MIDIUtil is 1, while in MidiTok is 8. Divide beat length by 8 if you use methods in MIDIUtil to save midi files."
   ]
  },
  {
   "cell_type": "code",
   "execution_count": 22,
   "metadata": {},
   "outputs": [],
   "source": [
    "def music_generate(length):\n",
    "    # sample notes using Q5 trigram model\n",
    "    unigramProbabilities = note_unigram_probability(midi_files)\n",
    "    bigramTransitions, bigramTransitionProbabilities = note_bigram_probability(midi_files)\n",
    "    trigramTransitions, trigramTransitionProbabilities = note_trigram_probability(midi_files)\n",
    "    \n",
    "    sampled_notes = []\n",
    "\n",
    "    # Start with two seed notes\n",
    "    notes = list(unigramProbabilities.keys())\n",
    "    w1 = random.choices(population=notes, weights=unigramProbabilities.values())[0]\n",
    "    w2 = random.choices(\n",
    "        population=bigramTransitions[w1],\n",
    "        weights=bigramTransitionProbabilities[w1]\n",
    "    )[0]\n",
    "    sampled_notes.extend([w1, w2])\n",
    "\n",
    "    for _ in range(length - 2):\n",
    "        key = (sampled_notes[-2], sampled_notes[-1])\n",
    "        if key in trigramTransitions:\n",
    "            sampled = random.choices(\n",
    "                population=trigramTransitions[key],\n",
    "                weights=trigramTransitionProbabilities[key]\n",
    "            )[0]\n",
    "        else:\n",
    "            sampled = random.choice(notes)\n",
    "        sampled_notes.append(sampled)\n",
    "\n",
    "    # Sample beat lengths using Q8: beat_pos_bigram_probability\n",
    "    beat_pos_transitions, beat_pos_probs = beat_pos_bigram_probability(midi_files)\n",
    "    beat_lengths = []\n",
    "    current_position = 0\n",
    "\n",
    "    for _ in range(length):\n",
    "        pos = current_position\n",
    "\n",
    "        if pos in beat_pos_transitions:\n",
    "            beat_len = random.choices(\n",
    "                population=beat_pos_transitions[pos],\n",
    "                weights=beat_pos_probs[pos]\n",
    "            )[0]\n",
    "        else:\n",
    "            beat_len = random.choice([2, 4, 8, 16])  # fallback if unseen\n",
    "\n",
    "        beat_lengths.append(beat_len)\n",
    "        current_position += beat_len\n",
    "        if current_position >= 32:\n",
    "            current_position = 0\n",
    "\n",
    "    # Write to MIDI\n",
    "    midi = MIDIFile(1)\n",
    "    track = 0\n",
    "    time = 0.0\n",
    "    midi.addTrackName(track, time, \"Generated Track\")\n",
    "    midi.addTempo(track, time, 120)\n",
    "\n",
    "    for pitch, beat_len in zip(sampled_notes, beat_lengths):\n",
    "        duration = beat_len / 8.0  # MiDiUtil uses 1.0 per beat\n",
    "        midi.addNote(track, channel=0, pitch=pitch, time=time, duration=duration, volume=100)\n",
    "        time += duration\n",
    "\n",
    "    with open(\"q10.mid\", \"wb\") as f:\n",
    "        midi.writeFile(f)"
   ]
  },
  {
   "cell_type": "code",
   "execution_count": 23,
   "metadata": {},
   "outputs": [
    {
     "ename": "AttributeError",
     "evalue": "'ScoreTick' object has no attribute 'notes'",
     "output_type": "error",
     "traceback": [
      "\u001b[0;31m---------------------------------------------------------------------------\u001b[0m",
      "\u001b[0;31mAttributeError\u001b[0m                            Traceback (most recent call last)",
      "Cell \u001b[0;32mIn[23], line 1\u001b[0m\n\u001b[0;32m----> 1\u001b[0m \u001b[43mmusic_generate\u001b[49m\u001b[43m(\u001b[49m\u001b[38;5;241;43m500\u001b[39;49m\u001b[43m)\u001b[49m\n",
      "Cell \u001b[0;32mIn[22], line 3\u001b[0m, in \u001b[0;36mmusic_generate\u001b[0;34m(length)\u001b[0m\n\u001b[1;32m      1\u001b[0m \u001b[38;5;28;01mdef\u001b[39;00m \u001b[38;5;21mmusic_generate\u001b[39m(length):\n\u001b[1;32m      2\u001b[0m     \u001b[38;5;66;03m# sample notes using Q5 trigram model\u001b[39;00m\n\u001b[0;32m----> 3\u001b[0m     unigramProbabilities \u001b[38;5;241m=\u001b[39m \u001b[43mnote_unigram_probability\u001b[49m\u001b[43m(\u001b[49m\u001b[43mmidi_files\u001b[49m\u001b[43m)\u001b[49m\n\u001b[1;32m      4\u001b[0m     bigramTransitions, bigramTransitionProbabilities \u001b[38;5;241m=\u001b[39m note_bigram_probability(midi_files)\n\u001b[1;32m      5\u001b[0m     trigramTransitions, trigramTransitionProbabilities \u001b[38;5;241m=\u001b[39m note_trigram_probability(midi_files)\n",
      "Cell \u001b[0;32mIn[9], line 2\u001b[0m, in \u001b[0;36mnote_unigram_probability\u001b[0;34m(midi_files)\u001b[0m\n\u001b[1;32m      1\u001b[0m \u001b[38;5;28;01mdef\u001b[39;00m \u001b[38;5;21mnote_unigram_probability\u001b[39m(midi_files):\n\u001b[0;32m----> 2\u001b[0m     note_counts \u001b[38;5;241m=\u001b[39m \u001b[43mnote_frequency\u001b[49m\u001b[43m(\u001b[49m\u001b[43mmidi_files\u001b[49m\u001b[43m)\u001b[49m\n\u001b[1;32m      3\u001b[0m     total_count \u001b[38;5;241m=\u001b[39m \u001b[38;5;28msum\u001b[39m(note_counts\u001b[38;5;241m.\u001b[39mvalues())\n\u001b[1;32m      4\u001b[0m     unigramProbabilities \u001b[38;5;241m=\u001b[39m {}\n",
      "Cell \u001b[0;32mIn[8], line 4\u001b[0m, in \u001b[0;36mnote_frequency\u001b[0;34m(midi_files)\u001b[0m\n\u001b[1;32m      2\u001b[0m pitch_counts \u001b[38;5;241m=\u001b[39m defaultdict(\u001b[38;5;28mint\u001b[39m)\n\u001b[1;32m      3\u001b[0m \u001b[38;5;28;01mfor\u001b[39;00m file \u001b[38;5;129;01min\u001b[39;00m midi_files:\n\u001b[0;32m----> 4\u001b[0m     notes \u001b[38;5;241m=\u001b[39m \u001b[43mnote_extraction\u001b[49m\u001b[43m(\u001b[49m\u001b[43mfile\u001b[49m\u001b[43m)\u001b[49m\n\u001b[1;32m      5\u001b[0m     \u001b[38;5;28;01mfor\u001b[39;00m pitch \u001b[38;5;129;01min\u001b[39;00m notes:\n\u001b[1;32m      6\u001b[0m         pitch_counts[pitch] \u001b[38;5;241m+\u001b[39m\u001b[38;5;241m=\u001b[39m \u001b[38;5;241m1\u001b[39m\n",
      "Cell \u001b[0;32mIn[7], line 3\u001b[0m, in \u001b[0;36mnote_extraction\u001b[0;34m(midi_file)\u001b[0m\n\u001b[1;32m      1\u001b[0m \u001b[38;5;28;01mdef\u001b[39;00m \u001b[38;5;21mnote_extraction\u001b[39m(midi_file):\n\u001b[1;32m      2\u001b[0m     midi \u001b[38;5;241m=\u001b[39m Score\u001b[38;5;241m.\u001b[39mfrom_midi(\u001b[38;5;28mopen\u001b[39m(midi_file, \u001b[38;5;124m\"\u001b[39m\u001b[38;5;124mrb\u001b[39m\u001b[38;5;124m\"\u001b[39m)\u001b[38;5;241m.\u001b[39mread())\n\u001b[0;32m----> 3\u001b[0m     \u001b[38;5;28;01mreturn\u001b[39;00m [note\u001b[38;5;241m.\u001b[39mpitch \u001b[38;5;28;01mfor\u001b[39;00m note \u001b[38;5;129;01min\u001b[39;00m \u001b[43mmidi\u001b[49m\u001b[38;5;241;43m.\u001b[39;49m\u001b[43mnotes\u001b[49m]\n",
      "\u001b[0;31mAttributeError\u001b[0m: 'ScoreTick' object has no attribute 'notes'"
     ]
    }
   ],
   "source": [
    "music_generate(500)"
   ]
  }
 ],
 "metadata": {
  "kernelspec": {
   "display_name": "Python 3",
   "language": "python",
   "name": "python3"
  },
  "language_info": {
   "codemirror_mode": {
    "name": "ipython",
    "version": 3
   },
   "file_extension": ".py",
   "mimetype": "text/x-python",
   "name": "python",
   "nbconvert_exporter": "python",
   "pygments_lexer": "ipython3",
   "version": "3.10.16"
  }
 },
 "nbformat": 4,
 "nbformat_minor": 2
}
