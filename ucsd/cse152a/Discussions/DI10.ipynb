{
 "cells": [
  {
   "cell_type": "markdown",
   "metadata": {
    "id": "4oTW2XulyANU"
   },
   "source": [
    "# CNN Training\n",
    "We will train a sample CNN using the CIFAR-10 dataset (https://www.cs.toronto.edu/~kriz/cifar.html)."
   ]
  },
  {
   "cell_type": "code",
   "execution_count": 1,
   "metadata": {},
   "outputs": [],
   "source": [
    "import numpy as np\n",
    "import torch\n",
    "import torch.nn as nn\n",
    "import torch.optim as optim\n",
    "from tqdm.notebook import tqdm\n",
    "import random\n",
    "import pickle\n",
    "import matplotlib.pyplot as plt"
   ]
  },
  {
   "cell_type": "code",
   "execution_count": 2,
   "metadata": {
    "colab": {
     "base_uri": "https://localhost:8080/"
    },
    "id": "0ftR0Fh8ihYs",
    "outputId": "f4db5d6d-e24f-4db6-f3de-76e8047d19d1"
   },
   "outputs": [
    {
     "name": "stdout",
     "output_type": "stream",
     "text": [
      "mkdir: CIFAR-10: File exists\n",
      "/Users/ryoandrewonozuka/Documents/Coding/GitHub/UCSD/CSE 152A/Discussions/CIFAR-10\n",
      "--2024-06-04 03:56:37--  https://www.cs.toronto.edu/~kriz/cifar-10-python.tar.gz\n",
      "Resolving www.cs.toronto.edu (www.cs.toronto.edu)... 128.100.3.30\n",
      "Connecting to www.cs.toronto.edu (www.cs.toronto.edu)|128.100.3.30|:443... connected.\n"
     ]
    },
    {
     "name": "stderr",
     "output_type": "stream",
     "text": [
      "/Users/ryoandrewonozuka/Library/Python/3.10/lib/python/site-packages/IPython/core/magics/osm.py:417: UserWarning: using dhist requires you to install the `pickleshare` library.\n",
      "  self.shell.db['dhist'] = compress_dhist(dhist)[-100:]\n"
     ]
    },
    {
     "name": "stdout",
     "output_type": "stream",
     "text": [
      "HTTP request sent, awaiting response... 200 OK\n",
      "Length: 170498071 (163M) [application/x-gzip]\n",
      "Saving to: ‘cifar-10-python.tar.gz.1’\n",
      "\n",
      "cifar-10-python.tar  37%[======>             ]  60.54M   430KB/s    eta 54s    ^C\n",
      "x cifar-10-batches-py/\n",
      "x cifar-10-batches-py/data_batch_4: truncated gzip input\n",
      "tar: Error exit delayed from previous errors.\n",
      "/Users/ryoandrewonozuka/Documents/Coding/GitHub/UCSD/CSE 152A/Discussions\n"
     ]
    }
   ],
   "source": [
    "# Downloading the dataset\n",
    "!mkdir CIFAR-10\n",
    "%cd CIFAR-10\n",
    "!wget https://www.cs.toronto.edu/~kriz/cifar-10-python.tar.gz\n",
    "!tar -xvzf cifar-10-python.tar.gz\n",
    "!rm cifar-10-python.tar.gz\n",
    "%cd .."
   ]
  },
  {
   "cell_type": "code",
   "execution_count": null,
   "metadata": {
    "colab": {
     "base_uri": "https://localhost:8080/"
    },
    "id": "hxajsnSRyANU",
    "outputId": "92cab921-2e7f-4f1a-9b75-a7658a111166"
   },
   "outputs": [
    {
     "name": "stdout",
     "output_type": "stream",
     "text": [
      "Data Shape: (50000, 32, 32, 3)\n"
     ]
    }
   ],
   "source": [
    "# DATA PARSING\n",
    "path='./CIFAR-10/cifar-10-batches-py/'\n",
    "data=np.zeros((0,32,32,3))\n",
    "labels=[]\n",
    "for i in range(1,6):\n",
    "    with open(path+'data_batch_'+str(i), 'rb') as fo:\n",
    "        dat = pickle.load(fo,encoding='latin1')\n",
    "        r=dat['data'][:,:1024*1].reshape((10000,32,32,1))\n",
    "        g=dat['data'][:,1024:2048].reshape((10000,32,32,1))\n",
    "        b=dat['data'][:,2048:3072].reshape((10000,32,32,1))\n",
    "        rgb=np.concatenate((r,g,b),axis=3)\n",
    "        data=np.vstack((data,np.float32(rgb)/255))\n",
    "        labels+=dat['labels']\n",
    "labels=np.array(labels)\n",
    "# data -> 50000 X 32 X 32 X 3 array with training data\n",
    "# labels -> 50000 labels ranging from 0 to 9\n",
    "print(f\"Data Shape: {data.shape}\")"
   ]
  },
  {
   "cell_type": "code",
   "execution_count": null,
   "metadata": {},
   "outputs": [
    {
     "data": {
      "text/plain": [
       "(50000,)"
      ]
     },
     "execution_count": 3,
     "metadata": {},
     "output_type": "execute_result"
    }
   ],
   "source": [
    "labels.shape"
   ]
  },
  {
   "cell_type": "code",
   "execution_count": null,
   "metadata": {},
   "outputs": [
    {
     "data": {
      "text/plain": [
       "(array([0, 1, 2, 3, 4, 5, 6, 7, 8, 9]),\n",
       " array([5000, 5000, 5000, 5000, 5000, 5000, 5000, 5000, 5000, 5000]))"
      ]
     },
     "execution_count": 9,
     "metadata": {},
     "output_type": "execute_result"
    }
   ],
   "source": [
    "np.unique(labels, return_counts=True)"
   ]
  },
  {
   "cell_type": "markdown",
   "metadata": {
    "id": "14Dx-gBeyANU"
   },
   "source": [
    " **Plot a random image corresponding to a given label `l`**\n"
   ]
  },
  {
   "cell_type": "code",
   "execution_count": null,
   "metadata": {
    "id": "CZCR1MYwyANV"
   },
   "outputs": [],
   "source": [
    "label_id = random.choice(range(10)) ## choose a number from 1-10.\n",
    "\n",
    "label_indices = np.where(labels==label_id)[0]"
   ]
  },
  {
   "cell_type": "code",
   "execution_count": null,
   "metadata": {},
   "outputs": [
    {
     "data": {
      "text/plain": [
       "array([    9,    17,    21, ..., 49979, 49982, 49983])"
      ]
     },
     "execution_count": 32,
     "metadata": {},
     "output_type": "execute_result"
    }
   ],
   "source": [
    "label_indices"
   ]
  },
  {
   "cell_type": "code",
   "execution_count": null,
   "metadata": {},
   "outputs": [
    {
     "data": {
      "image/png": "[encoded data removed]",
      "text/plain": [
       "<Figure size 144x144 with 1 Axes>"
      ]
     },
     "metadata": {
      "needs_background": "light"
     },
     "output_type": "display_data"
    }
   ],
   "source": [
    "## Choose 1 image\n",
    "random_index = random.choice(label_indices)\n",
    "selected_image = data[random_index]\n",
    "\n",
    "## Plot\n",
    "plt.figure(figsize=(2,2))\n",
    "plt.imshow(selected_image);"
   ]
  },
  {
   "cell_type": "markdown",
   "metadata": {
    "id": "KJaTTDaWyANW"
   },
   "source": [
    "**Create a simple CNN with the following structure:**\n",
    "\n",
    "1. Layer 1 - Convolutional layer with kernel size 3, Stride 1, Output channels 64, Relu activation\n",
    "2. Maxpool layer with stride 2.\n",
    "3. Layer 3 - Convolutional layer with kernel size 3, Stride 1, Output channels 64, Relu activation\n",
    "4. Maxpool layer with stride 2.\n",
    "4. Layer 4 - Convolutional layer with kernel size 3, Stride 1, Output channels 64, Relu activation\n",
    "5. Layer 5 - Fully connected layer with 10 outputs"
   ]
  },
  {
   "cell_type": "code",
   "execution_count": null,
   "metadata": {
    "colab": {
     "base_uri": "https://localhost:8080/"
    },
    "id": "c0ju7XGiyANW",
    "outputId": "209e0453-e483-404c-d386-c533e337a669"
   },
   "outputs": [
    {
     "name": "stdout",
     "output_type": "stream",
     "text": [
      "Net(\n",
      "  (layer1): Conv2d(3, 64, kernel_size=(3, 3), stride=(1, 1), padding=(1, 1))\n",
      "  (pool1): MaxPool2d(kernel_size=(2, 2), stride=2, padding=0, dilation=1, ceil_mode=False)\n",
      "  (layer2): Conv2d(64, 64, kernel_size=(3, 3), stride=(1, 1), padding=(1, 1))\n",
      "  (pool2): MaxPool2d(kernel_size=(2, 2), stride=2, padding=0, dilation=1, ceil_mode=False)\n",
      "  (layer3): Conv2d(64, 64, kernel_size=(3, 3), stride=(1, 1), padding=(1, 1))\n",
      "  (linear): Linear(in_features=4096, out_features=10, bias=True)\n",
      "  (act): ReLU()\n",
      "  (flatten): Flatten(start_dim=1, end_dim=-1)\n",
      ")\n"
     ]
    }
   ],
   "source": [
    "class Net(nn.Module):\n",
    "    def __init__(self):\n",
    "        super(Net, self).__init__()\n",
    "        \n",
    "        self.layer1 = nn.Conv2d(3, 64, 3, stride=1, padding=1)\n",
    "        self.pool1 = nn.MaxPool2d((2,2),stride=2)\n",
    "        \n",
    "        self.layer2 = nn.Conv2d(64, 64, 3, stride=1, padding=1)\n",
    "        self.pool2 = nn.MaxPool2d((2,2),stride=2)\n",
    "        \n",
    "        self.layer3 = nn.Conv2d(64, 64, 3, stride=1, padding=1)\n",
    "        \n",
    "        ## input 32,32,3\n",
    "        ## layer 1: 32,32,64\n",
    "        ## pool1: 16,16,64\n",
    "        ## layer2: 16,16,64\n",
    "        ## pool2: 8,8,64\n",
    "        ## layer3: 8,8,64\n",
    "        ## input to the linear => 8*8*64 = 4096\n",
    "        \n",
    "        self.linear = nn.Linear(4096,10)\n",
    "        \n",
    "        self.act = nn.ReLU()\n",
    "        self.flatten = nn.Flatten()\n",
    "        \n",
    "\n",
    "    def forward(self, x):\n",
    "        ## x: BxCxHxW\n",
    "        \n",
    "        x = self.act(self.layer1(x))\n",
    "        x = self.pool1(x)\n",
    "        \n",
    "        x = self.act(self.layer2(x))\n",
    "        x = self.pool2(x)\n",
    "        \n",
    "        x = self.act(self.layer3(x))\n",
    "        \n",
    "        x = self.flatten(x)\n",
    "        x = self.linear(x)\n",
    "\n",
    "        return x\n",
    "\n",
    "net = Net()\n",
    "print(net)"
   ]
  },
  {
   "cell_type": "markdown",
   "metadata": {
    "id": "1FJAsD94yANW"
   },
   "source": [
    "**Training Module**\n",
    "Training pipeline consists of three key steps:\n",
    "\n",
    "1. Compute the loss\n",
    "2. Compute the gradients.\n",
    "3. Update the weights.\n",
    "\n",
    "We also set the learning rate, number of iterations and batch size such that the loss is gradually and smoothly decreasing and converging."
   ]
  },
  {
   "cell_type": "code",
   "execution_count": null,
   "metadata": {
    "id": "cdxXMhowyANW"
   },
   "outputs": [],
   "source": [
    "def train(tdata,tlabel,net,to_train):\n",
    "    criterion = nn.CrossEntropyLoss()\n",
    "    losslist = []\n",
    "    \n",
    "    epochs=5\n",
    "    batch=100\n",
    "    learning_rate=1e-3\n",
    "    optimizer = optim.Adam(to_train,lr=learning_rate)\n",
    "    optimizer.zero_grad()\n",
    "\n",
    "    for k in tqdm(range(epochs)):\n",
    "        for l in tqdm(range(int(len(tdata)/batch))):\n",
    "            inds=np.random.randint(0,len(tdata)-1,batch)\n",
    "            inputs = torch.FloatTensor(tdata[inds])\n",
    "            inputs.requires_grad_()\n",
    "            targets = torch.LongTensor(tlabel[inds])\n",
    "            \n",
    "            out = net(inputs) ## compute the outputs.\n",
    "            loss = criterion(out, targets) ## compute the loss\n",
    "            loss.backward() ## compute the gradients\n",
    "            optimizer.step() ## updates the weights.\n",
    "            optimizer.zero_grad() ## clears the cache/clears the internal states.\n",
    "\n",
    "            losslist.append(loss.item())\n",
    "            \n",
    "            if l > 200:\n",
    "                break\n",
    "\n",
    "\n",
    "    return losslist"
   ]
  },
  {
   "cell_type": "markdown",
   "metadata": {
    "id": "8AOR4Z3jyANX"
   },
   "source": [
    "**Visualize the loss patterns**\n",
    "\n",
    "We plot the loss pattern (also called convergence pattern or convergence graph) using `losslist`."
   ]
  },
  {
   "cell_type": "code",
   "execution_count": null,
   "metadata": {},
   "outputs": [],
   "source": [
    "data = torch.permute(torch.Tensor(data), (0,3,1,2))"
   ]
  },
  {
   "cell_type": "code",
   "execution_count": null,
   "metadata": {
    "id": "MdepBBZeyANX"
   },
   "outputs": [
    {
     "data": {
      "application/vnd.jupyter.widget-view+json": {
       "model_id": "c7a5463b98c54e51abce2e84a42b6f55",
       "version_major": 2,
       "version_minor": 0
      },
      "text/plain": [
       "  0%|          | 0/1 [00:00<?, ?it/s]"
      ]
     },
     "metadata": {},
     "output_type": "display_data"
    },
    {
     "data": {
      "application/vnd.jupyter.widget-view+json": {
       "model_id": "e849abca61a04c99938bf10fc7831efe",
       "version_major": 2,
       "version_minor": 0
      },
      "text/plain": [
       "  0%|          | 0/500 [00:00<?, ?it/s]"
      ]
     },
     "metadata": {},
     "output_type": "display_data"
    },
    {
     "data": {
      "image/png": "[encoded data removed]",
      "text/plain": [
       "<Figure size 432x288 with 1 Axes>"
      ]
     },
     "metadata": {
      "needs_background": "light"
     },
     "output_type": "display_data"
    }
   ],
   "source": [
    "net = Net()\n",
    "## transform the labels from cardinal to ordinal.\n",
    "loss1 = train(data, labels, net, net.parameters())\n",
    "ax=range(len(loss1))\n",
    "plt.plot(ax, loss1, label='loss')\n",
    "plt.legend()\n",
    "plt.show()"
   ]
  }
 ],
 "metadata": {
  "accelerator": "GPU",
  "colab": {
   "gpuType": "T4",
   "provenance": []
  },
  "kernelspec": {
   "display_name": "Python 3 (ipykernel)",
   "language": "python",
   "name": "python3"
  },
  "language_info": {
   "codemirror_mode": {
    "name": "ipython",
    "version": 3
   },
   "file_extension": ".py",
   "mimetype": "text/x-python",
   "name": "python",
   "nbconvert_exporter": "python",
   "pygments_lexer": "ipython3",
   "version": "3.10.11"
  }
 },
 "nbformat": 4,
 "nbformat_minor": 1
}
