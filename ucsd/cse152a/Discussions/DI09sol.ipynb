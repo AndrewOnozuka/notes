{
 "cells": [
  {
   "cell_type": "markdown",
   "metadata": {
    "id": "K8Escb-oGmLC"
   },
   "source": [
    "# CSE 152A: Discussion Week 8 and 9: PyTorch Tutorials\n",
    "Adapted from: https://pytorch.org/tutorials/beginner/basics/quickstart_tutorial.html"
   ]
  },
  {
   "cell_type": "markdown",
   "metadata": {
    "id": "xXeQqEAYICmh"
   },
   "source": [
    "## **Part 0: Set-up**\n",
    "### First, lets import PyTorch and some useful functions/objects"
   ]
  },
  {
   "cell_type": "code",
   "execution_count": 1,
   "metadata": {
    "id": "XsUlJRrTGqmf"
   },
   "outputs": [],
   "source": [
    "import torch # Main torch package\n",
    "from torch import nn # Importing specifically the nn class of the torch library, this will make our code more consise later on\n",
    "from torch.utils.data import DataLoader # Importing the DataLoader class\n",
    "from torchvision import datasets # Used for importing built-in datasets\n",
    "from torchvision.transforms import ToTensor # Used to transform data to tensors (the main object in PyTorch)\n",
    "import matplotlib.pyplot as plt # Plotting\n",
    "import numpy as np\n",
    "from tqdm import tqdm # Progress bar"
   ]
  },
  {
   "cell_type": "markdown",
   "metadata": {
    "id": "dOj2RXu1HV4Q"
   },
   "source": [
    "###  Let's specify a variable to use GPU if available and CPU if not. CUDA is the API for working with NVIDIA GPUs. There is good support in Pytorch to work with CUDA and NVIDIA GPUs."
   ]
  },
  {
   "cell_type": "code",
   "execution_count": 2,
   "metadata": {
    "colab": {
     "base_uri": "https://localhost:8080/"
    },
    "id": "9ZtqLXRqG8K3",
    "outputId": "eddfb568-087f-44c3-e64b-3f52234f831f"
   },
   "outputs": [
    {
     "name": "stdout",
     "output_type": "stream",
     "text": [
      "The device currently available is: cpu\n",
      "/bin/bash: nvidia-smi: command not found\n"
     ]
    }
   ],
   "source": [
    "if torch.cuda.is_available():\n",
    "    device = \"cuda\"\n",
    "else:\n",
    "    device = \"cpu\"\n",
    "\n",
    "print(f\"The device currently available is: {device}\")\n",
    "!nvidia-smi # This will show information about your GPU if there is one available"
   ]
  },
  {
   "cell_type": "markdown",
   "metadata": {
    "id": "4tWZUZR7H7bf"
   },
   "source": [
    "### If you have \"cpu\", then it means that there is no GPU currently available that CUDA can find. This is because in Google Colab, we need to activate it.\n",
    "\n",
    "**NOTE: There is a time limit for GPU usage per day. If you reach this time limit while doing the HW, we do NOT expect you to purchase a subscription to Colab Pro. Please just save your notebook and copy it over to another Gmail account and work on it there while your school Google account is on cooldown.**\n",
    "\n",
    "### To activate it, we can click at the top: Runtime -> Change Runtime Type -> Select T4 GPU under the Hardware Accelerator selection. You will probably need to run your cells again.\n",
    "\n",
    "### At this point, you should hopefully see that the device currently available is cuda!"
   ]
  },
  {
   "cell_type": "markdown",
   "metadata": {
    "id": "OkDr0h_5QUef"
   },
   "source": [
    "### **Tensors**\n",
    "\n",
    "The main object in PyTorch are tensors, similar to Numpy ndarrays. Main difference is PyTorch has built-in GPU/hardware acceleration support. You can also easily switch between PyTorch tensors and Numpy ndarrays.\n",
    "\n",
    "[Bridging Numpy and PyTorch](https://pytorch.org/tutorials/beginner/blitz/tensor_tutorial.html#bridge-to-np-label)"
   ]
  },
  {
   "cell_type": "code",
   "execution_count": 3,
   "metadata": {
    "colab": {
     "base_uri": "https://localhost:8080/"
    },
    "id": "8Fyw45FqQMym",
    "outputId": "0a34e2ea-c7c1-435a-9408-e65f7f48bd94"
   },
   "outputs": [
    {
     "name": "stdout",
     "output_type": "stream",
     "text": [
      "tensor([[1, 2],\n",
      "        [3, 4]])\n",
      "torch.Size([2, 2])\n",
      "\n",
      "tensor([[1, 2],\n",
      "        [3, 4]])\n",
      "torch.Size([2, 2])\n",
      "\n",
      "[[1 2]\n",
      " [3 4]]\n",
      "(2, 2)\n",
      "\n"
     ]
    }
   ],
   "source": [
    "# Initializing a tensor\n",
    "data = torch.tensor([\n",
    "    [1,2],\n",
    "    [3,4]\n",
    "])\n",
    "print(data)\n",
    "print(data.shape)\n",
    "print()\n",
    "\n",
    "# Starting with a numpy array\n",
    "np_arr = np.array([\n",
    "    [1,2],\n",
    "    [3,4]\n",
    "])\n",
    "data = torch.tensor(np_arr)\n",
    "print(data)\n",
    "print(data.shape)\n",
    "print()\n",
    "\n",
    "# And switch back\n",
    "np_arr = data.numpy()\n",
    "print(np_arr)\n",
    "print(np_arr.shape)\n",
    "print()"
   ]
  },
  {
   "cell_type": "markdown",
   "metadata": {
    "id": "zEdr_vmYLHqX"
   },
   "source": [
    "## **Part 1: Initializing your dataset**\n",
    "### Your dataset will determine some of how your network needs to be set-up. There are two main objects you need to set-up: the Dataset and DataLoader. Pytorch has a few datasets built into it, so we will use the CIFAR-10 dataset for this tutorial. You can read more in the tutorials about how to initialize your own Dataset and Dataloaders for custom data."
   ]
  },
  {
   "cell_type": "code",
   "execution_count": 4,
   "metadata": {
    "colab": {
     "base_uri": "https://localhost:8080/",
     "height": 555
    },
    "id": "kMShCJEWL8s7",
    "outputId": "e7472cba-ca2f-4c7c-bb20-e5bcb6e8ad66"
   },
   "outputs": [
    {
     "name": "stdout",
     "output_type": "stream",
     "text": [
      "Files already downloaded and verified\n",
      "Files already downloaded and verified\n",
      "Shape of X [N, C, H, W]: torch.Size([64, 3, 32, 32])\n",
      "Shape of y: torch.Size([64]) torch.int64\n",
      "This image is of class 8\n"
     ]
    },
    {
     "data": {
      "image/png": "[encoded data removed]",
      "text/plain": [
       "<Figure size 432x288 with 1 Axes>"
      ]
     },
     "metadata": {
      "needs_background": "light"
     },
     "output_type": "display_data"
    }
   ],
   "source": [
    "# Download datasets\n",
    "training_data = datasets.CIFAR10(\n",
    "    root=\"data\",\n",
    "    train=True,\n",
    "    download=True,\n",
    "    transform=ToTensor()\n",
    ")\n",
    "\n",
    "testing_data = datasets.CIFAR10(\n",
    "    root=\"data\",\n",
    "    train=False,\n",
    "    download=True,\n",
    "    transform=ToTensor()\n",
    ")\n",
    "\n",
    "# Create data loaders\n",
    "batch_size = 64\n",
    "train_dataloader = DataLoader(training_data, batch_size=batch_size)\n",
    "test_dataloader = DataLoader(testing_data, batch_size=batch_size)\n",
    "\n",
    "for X,y in test_dataloader:\n",
    "    print(f\"Shape of X [N, C, H, W]: {X.shape}\")\n",
    "    print(f\"Shape of y: {y.shape} {y.dtype}\")\n",
    "\n",
    "    plt.imshow(X[1,:,:,:].permute(1,2,0)) # Show an image from our dataset\n",
    "    print(f\"This image is of class {y[1]}\")\n",
    "    break"
   ]
  },
  {
   "cell_type": "markdown",
   "metadata": {
    "id": "mlYFVUQlJOAB"
   },
   "source": [
    "### At this point, we have downloaded our data and set-up our data loaders. You can see that we can do .shape on these tensor objects just like Numpy, however note the dimensions are probably not in the order you are expecting. Here, we have shape (batch_size, channels, height, width). Channels is the third dimension of your images (think RGB). Height and width are specified last in the dimensions. Many PyTorch functions *expect* the input to be this way.\n",
    "\n",
    "## **Part 2: Defining your network**\n",
    "\n",
    "### Each network/layer in PyTorch should be defined inside of a class that inherits from nn.Module. There are then two things we need to do: Initialize the layers inside of the constructor, and specify how data should pass through the network in the forward function.\n",
    "\n",
    "### I have intentionally created a small and simple network to get the PyTorch concepts across and will obtain somewhat poor accuracy. In HW4, we will improve upon this.\n",
    "\n",
    "[Conv2d](https://pytorch.org/docs/stable/generated/torch.nn.Conv2d.html)\n",
    "\n",
    "[Linear](https://pytorch.org/docs/stable/generated/torch.nn.Linear.html)\n",
    "\n",
    "[ReLU](https://pytorch.org/docs/stable/generated/torch.nn.ReLU.html)\n",
    "\n",
    "[Flatten](https://pytorch.org/docs/stable/generated/torch.nn.Flatten.html)\n"
   ]
  },
  {
   "cell_type": "code",
   "execution_count": 5,
   "metadata": {
    "colab": {
     "base_uri": "https://localhost:8080/"
    },
    "id": "QQqFe9UKJUxe",
    "outputId": "9c29a9e0-77ff-4c02-c32f-75acca382bec"
   },
   "outputs": [
    {
     "name": "stdout",
     "output_type": "stream",
     "text": [
      "MyNetwork(\n",
      "  (conv1): Conv2d(3, 16, kernel_size=(3, 3), stride=(1, 1), padding=(1, 1))\n",
      "  (fc1): Linear(in_features=16384, out_features=128, bias=True)\n",
      "  (fc2): Linear(in_features=128, out_features=10, bias=True)\n",
      "  (relu): ReLU()\n",
      "  (flatten): Flatten(start_dim=1, end_dim=-1)\n",
      ")\n"
     ]
    }
   ],
   "source": [
    "class MyNetwork(nn.Module):\n",
    "    def __init__(self):\n",
    "        \"\"\"\n",
    "        This is the constructor of our neural network. Inside of it, we should\n",
    "        specify all of the layers that are used to build the model.\n",
    "\n",
    "        Lets say that we want to create a network with 1 convolutional layer\n",
    "        and 2 fully-connected layers. For now:\n",
    "\n",
    "        1. Conv2d: 16 output channels, kernel of size 3, 1 padding, 1 stride (takes the image data as input)\n",
    "        2. Linear: 128 output features\n",
    "        3. Linear: 10 output features (This is produces our output)\n",
    "\n",
    "        With ReLU activation function after each convolutional and linear layer.\n",
    "        \"\"\"\n",
    "        super().__init__()\n",
    "        self.conv1 = nn.Conv2d(3, 16, 3, padding=1) # Convolutional layer 1: in_channels depends on input data\n",
    "        self.fc1 = nn.Linear(16*32*32, 128) # Fully connected layer 1: Must flatten tensor from conv1 before passing to fc1 (in_features)\n",
    "        self.fc2 = nn.Linear(128, 10) # Fully connected layer 2: in_features only depends on fc1\n",
    "\n",
    "        self.relu = nn.ReLU() # ReLU activation function (can be used multiple times since no parameters)\n",
    "        self.flatten = nn.Flatten() # Used for flattening the tensor for fc layers\n",
    "\n",
    "    def forward(self, x):\n",
    "        \"\"\"\n",
    "        Here, we should specify how our takes in our input data x\n",
    "        and feeds it through the network. In this case, x will\n",
    "        be the images obtained from the data loader (tensors).\n",
    "        \"\"\"\n",
    "        out1 = self.relu(self.conv1(x)) # pass into first conv layer\n",
    "\n",
    "        flat = self.flatten(out1)\n",
    "        out2 = self.relu(self.fc1(flat))\n",
    "        out3 = self.fc2(out2)\n",
    "\n",
    "        return out3 # Note: We do not need to apply an activation function to the output of the network\n",
    "\n",
    "\n",
    "# Now we can instantiate a network:\n",
    "model = MyNetwork() # Create/Initialze the model\n",
    "model.to(device) # Send the model to the device we've chosen (either GPU or CPU depending on what's available)\n",
    "print(model)"
   ]
  },
  {
   "cell_type": "markdown",
   "metadata": {
    "id": "JE2VdjqkD94g"
   },
   "source": [
    "## **Part 3: Training and Evaluating**\n",
    "\n",
    "After we've set-up our network, they currently have randomly initialized weights. We need to optimize the network for our problem (classification). So, we need to decide on our loss function, the optimizer we will use, and then just feed our data through.\n",
    "\n",
    "[Adam](https://pytorch.org/docs/stable/generated/torch.optim.Adam.html)\n",
    "\n",
    "[CrossEntropyLoss](https://pytorch.org/docs/stable/generated/torch.nn.CrossEntropyLoss.html)"
   ]
  },
  {
   "cell_type": "code",
   "execution_count": 6,
   "metadata": {
    "id": "2S4vL_8_EFXn"
   },
   "outputs": [],
   "source": [
    "loss_fn = nn.CrossEntropyLoss() # Initialize our loss function\n",
    "optimizer = torch.optim.Adam(model.parameters()) # Initialize our optimizer -- we pass in the parameters that we want to optimize\n",
    "\n",
    "def train(dataloader, model, loss_fn, optimizer, device):\n",
    "  \"\"\"\n",
    "  This function will perform the optimization/training of the network\n",
    "  \"\"\"\n",
    "  size = len(dataloader.dataset) # Grab the total number of images\n",
    "  model.train() # Set the model to training mode (parameters can be updated and gradients are calculated)\n",
    "  optimizer.zero_grad() # Just make sure that the gradients are zero at the beginning\n",
    "  loss_history = []\n",
    "\n",
    "  # Now, we loop over our training data, pass in a batch, calculate the loss,\n",
    "  # calculate gradients, and update the our weights through the optimizer\n",
    "  for batch, (X, y) in enumerate(dataloader):\n",
    "\n",
    "    # First, we need to move the data to the same device as the model\n",
    "    # Ideally, everything is done on GPU\n",
    "    X, y = X.to(device), y.to(device)\n",
    "\n",
    "    # Then, we can just pass the data through the model (forward)\n",
    "    # and calculate the loss\n",
    "    pred = model(X)\n",
    "    loss = loss_fn(pred, y)\n",
    "\n",
    "    # Now, we can calculate the gradients through backpropagation\n",
    "    loss.backward()\n",
    "\n",
    "    # Take a step along the direction of the gradient (minimize)\n",
    "    optimizer.step()\n",
    "\n",
    "    # Zero out the gradients\n",
    "    optimizer.zero_grad()\n",
    "\n",
    "    # Logging\n",
    "    loss, current = loss.item(), (batch+1)*len(X)\n",
    "    if batch % 100 == 0:\n",
    "      print(f\"loss: {loss:>7f}  [{current:>5d}/{size:>5d}]\")\n",
    "    loss_history.append(loss)\n",
    "\n",
    "  return loss_history\n",
    "\n",
    "def test(dataloader, model, loss_fn, device):\n",
    "  \"\"\"\n",
    "  This function will test/evaluate our network after training\n",
    "  \"\"\"\n",
    "  size = len(dataloader.dataset) # Grab the total number of images\n",
    "  num_batches = len(dataloader) # Grab the total number of batches\n",
    "  model.eval() # Set the network to eval mode\n",
    "  test_loss, correct = 0.0, 0.0\n",
    "  with torch.no_grad(): # Ensure we do not calculate gradients\n",
    "    for X, y in dataloader:\n",
    "\n",
    "      # Send data to same device as model\n",
    "      X, y = X.to(device), y.to(device)\n",
    "\n",
    "      # Pass the data through the model\n",
    "      pred = model(X)\n",
    "\n",
    "      # Compute the loss on the test set\n",
    "      test_loss += loss_fn(pred, y).item()\n",
    "\n",
    "      # Compute the number of correct predictions\n",
    "      correct += (pred.argmax(dim=1) == y).type(torch.float).sum().item()\n",
    "\n",
    "  # Get the average test loss\n",
    "  test_loss /= num_batches\n",
    "\n",
    "  # Compute the accuracy\n",
    "  acc = correct / size\n",
    "\n",
    "  print(f\"\\nTest Error: \\n Accuracy: {(100*acc):>0.1f}%, Avg loss: {test_loss:>8f} \\n\")"
   ]
  },
  {
   "cell_type": "code",
   "execution_count": 7,
   "metadata": {
    "colab": {
     "base_uri": "https://localhost:8080/"
    },
    "id": "iJW4ti09GqFV",
    "outputId": "e96e0374-a319-441a-cbcf-118b90a67e68"
   },
   "outputs": [
    {
     "name": "stdout",
     "output_type": "stream",
     "text": [
      "loss: 2.292480  [   64/50000]\n",
      "loss: 1.847973  [ 6464/50000]\n",
      "loss: 1.425559  [12864/50000]\n",
      "loss: 1.551505  [19264/50000]\n",
      "loss: 1.490573  [25664/50000]\n",
      "loss: 1.633134  [32064/50000]\n",
      "loss: 1.544008  [38464/50000]\n",
      "loss: 1.469622  [44864/50000]\n",
      "\n",
      "Test Error: \n",
      " Accuracy: 50.8%, Avg loss: 1.355355 \n",
      "\n"
     ]
    }
   ],
   "source": [
    "# Now, we can just call the functions we've written\n",
    "\n",
    "# Training\n",
    "train_loss = train(train_dataloader, model, loss_fn, optimizer, device)\n",
    "\n",
    "# Testing\n",
    "test(test_dataloader, model, loss_fn, device)"
   ]
  },
  {
   "cell_type": "code",
   "execution_count": 8,
   "metadata": {
    "colab": {
     "base_uri": "https://localhost:8080/",
     "height": 472
    },
    "id": "wB5crjvmMPHs",
    "outputId": "c97de22a-6f7d-4f6e-cf52-d0123a9c0b5e"
   },
   "outputs": [
    {
     "data": {
      "image/png": "[encoded data removed]",
      "text/plain": [
       "<Figure size 640x480 with 1 Axes>"
      ]
     },
     "metadata": {},
     "output_type": "display_data"
    }
   ],
   "source": [
    "# Now, we can plot our training loss\n",
    "plt.plot(range(len(train_loss)), train_loss)\n",
    "plt.xlabel(\"Batch Iteration\")\n",
    "plt.ylabel(\"Loss\")\n",
    "plt.title(\"Training Loss\")\n",
    "plt.show()"
   ]
  },
  {
   "cell_type": "markdown",
   "metadata": {
    "id": "FEBTAnLj2E6_"
   },
   "source": [
    "## At this point, lets take a detour and talk about gradients and backpropagation.\n",
    "\n",
    "Let's take a simple function\n",
    "\n",
    "$$\n",
    "f(x,w,b) = wx + b\n",
    "$$\n",
    "\n",
    "Starting with values $x=3$, $w=4$, $b=2$, let's find how to update the parameters $w,b$:\n",
    "\n",
    "<br>\n",
    "\n",
    "Using standard gradient descent's update rule, we want to find:\n",
    "$$\n",
    "w_{n+1} = w_n - \\eta * \\frac{δf}{δw}\n",
    "$$\n",
    "\n",
    "$$\n",
    "b_{n+1} = b_n - \\eta * \\frac{δf}{δb}\n",
    "$$\n",
    "\n",
    "We can turn this into a computational graph:\n",
    "\n",
    "![Computational Graph](https://drive.google.com/uc?export=view&id=1cPiGgsfR4NG1iJHrAANfJ5KloyoXKe41)\n",
    "\n"
   ]
  },
  {
   "cell_type": "code",
   "execution_count": 5,
   "metadata": {
    "colab": {
     "base_uri": "https://localhost:8080/"
    },
    "id": "eHZxTZx7-F_M",
    "outputId": "97fca7c8-42f4-46da-b41e-5f7f7eedd13e"
   },
   "outputs": [
    {
     "name": "stdout",
     "output_type": "stream",
     "text": [
      "x: tensor([3., 2., 1.]), grad of x: tensor([4., 2., 1.])\n",
      "w: tensor([4., 2., 1.]), grad of w: tensor([3., 2., 1.])\n",
      "b: tensor([2.]), grad of b: tensor([1.])\n"
     ]
    }
   ],
   "source": [
    "# Show this result in code!\n",
    "x = torch.tensor([3.,2.,1.])\n",
    "w = torch.tensor([4.,2.,1.])\n",
    "b = torch.tensor([2.])\n",
    "\n",
    "## gradients are required.\n",
    "(x.requires_grad_())\n",
    "(w.requires_grad_())\n",
    "(b.requires_grad_())\n",
    "\n",
    "## forward pass.\n",
    "f = torch.sum(w*x) + b\n",
    "\n",
    "## backward pass\n",
    "f.backward()\n",
    "\n",
    "print(f\"x: {x.detach()}, grad of x: {x.grad}\")\n",
    "print(f\"w: {w.detach()}, grad of w: {w.grad}\")\n",
    "print(f\"b: {b.detach()}, grad of b: {b.grad}\")"
   ]
  },
  {
   "cell_type": "markdown",
   "metadata": {
    "id": "LNMMlcJaSk6p"
   },
   "source": [
    "## We have now completed a quick-start tutorial on creating a CNN and training it! Let's briefly talk about gradient calculation in PyTorch.\n",
    "\n",
    "### Autograd\n",
    "\n",
    "### Now we can briefly discuss automatic differentiation and gradients. Remember the loss_fn.backward()? This calculated the gradients of each parameter in our network using *backpropagation* (we will discuss this in lecture). PyTorch has automatic differentiation built-in to it.\n",
    "[Automatic differentiation with autograd](https://pytorch.org/tutorials/beginner/basics/autogradqs_tutorial.html)"
   ]
  },
  {
   "cell_type": "markdown",
   "metadata": {
    "id": "sP0BdlUzSyGc"
   },
   "source": [
    "## Let's look a little deeper into our code\n",
    "First, let's look at the shape of our data as it passes through each layer in our network."
   ]
  },
  {
   "cell_type": "code",
   "execution_count": 6,
   "metadata": {
    "colab": {
     "base_uri": "https://localhost:8080/"
    },
    "id": "uTysgjNdPlBN",
    "outputId": "ca2a7082-2764-4950-e3ab-47b4e5330226"
   },
   "outputs": [
    {
     "name": "stdout",
     "output_type": "stream",
     "text": [
      "MyNetwork2(\n",
      "  (conv1): Conv2d(3, 16, kernel_size=(3, 3), stride=(1, 1), padding=(1, 1))\n",
      "  (fc1): Linear(in_features=16384, out_features=128, bias=True)\n",
      "  (fc2): Linear(in_features=128, out_features=10, bias=True)\n",
      "  (relu): ReLU()\n",
      "  (flatten): Flatten(start_dim=1, end_dim=-1)\n",
      ")\n"
     ]
    }
   ],
   "source": [
    "class MyNetwork2(nn.Module):\n",
    "    def __init__(self):\n",
    "        \"\"\"\n",
    "        This is the constructor of our neural network. Inside of it, we should\n",
    "        specify all of the layers that are used to build the model.\n",
    "\n",
    "        Lets say that we want to create a network with 1 convolutional layer\n",
    "        and 2 fully-connected layers. For now:\n",
    "\n",
    "        1. Conv2d: 16 output channels, kernel of size 3, 1 padding, 1 stride (takes the image data as input)\n",
    "        2. Linear: 128 output features\n",
    "        3. Linear: 10 output features (This is produces our output)\n",
    "\n",
    "        With ReLU activation function after each convolutional and linear layer.\n",
    "        \"\"\"\n",
    "        super().__init__()\n",
    "        self.conv1 = nn.Conv2d(3, 16, 3, padding=1) # Convolutional layer 1: in_channels depends on input data\n",
    "        self.fc1 = nn.Linear(16*32*32, 128) # Fully connected layer 1: Must flatten tensor from conv1 before passing to fc1 (in_features)\n",
    "        self.fc2 = nn.Linear(128, 10) # Fully connected layer 2: in_features only depends on fc1\n",
    "\n",
    "        self.relu = nn.ReLU() # ReLU activation function (can be used multiple times since no parameters)\n",
    "        self.flatten = nn.Flatten() # Used for flattening the tensor for fc layers\n",
    "\n",
    "    def forward(self, x):\n",
    "        \"\"\"\n",
    "        Here, we should specify how our takes in our input data x\n",
    "        and feeds it through the network. In this case, x will\n",
    "        be the images obtained from the data loader (tensors).\n",
    "        \"\"\"\n",
    "        out1 = self.conv1(x)\n",
    "        print(f\"Shape after conv1: {out1.shape}\")\n",
    "        out1 = self.relu(out1)\n",
    "        print(f\"Shape after relu: {out1.shape}\")\n",
    "\n",
    "\n",
    "        flat = self.flatten(out1)\n",
    "        print(f\"Shape after flatten: {flat.shape}\")\n",
    "        out2 = self.fc1(flat)\n",
    "        print(f\"Shape after fc1: {out2.shape}\")\n",
    "        out2 = self.relu(out2)\n",
    "        print(f\"Shape after relu: {out2.shape}\")\n",
    "        out3 = self.fc2(out2)\n",
    "        print(f\"Shape after fc2: {out3.shape}\")\n",
    "\n",
    "        return out3 # Note: We do not need to apply an activation function to the output of the network\n",
    "\n",
    "\n",
    "# Now we can instantiate a network:\n",
    "model = MyNetwork2() # Create/Initialze the model\n",
    "model.to(device) # Send the model to the device we've chosen (either GPU or CPU depending on what's available)\n",
    "print(model)"
   ]
  },
  {
   "cell_type": "code",
   "execution_count": 7,
   "metadata": {
    "colab": {
     "base_uri": "https://localhost:8080/"
    },
    "id": "Cvn9qa7TPlBN",
    "outputId": "5eb07583-67ce-4e27-ea45-36255970ec22"
   },
   "outputs": [
    {
     "name": "stdout",
     "output_type": "stream",
     "text": [
      "torch.Size([2, 3, 32, 32])\n"
     ]
    }
   ],
   "source": [
    "# Create a fake batch of data\n",
    "# Remember, we will be passing in batches of data\n",
    "# Data shape: (batch_size, channels, height, width)\n",
    "\n",
    "# Following the shape of the CIFAR10 data, lets make\n",
    "# a tensor full of zeros\n",
    "X = torch.zeros((2, 3, 32, 32)).to(device)\n",
    "print(X.shape)"
   ]
  },
  {
   "cell_type": "code",
   "execution_count": 8,
   "metadata": {
    "colab": {
     "base_uri": "https://localhost:8080/"
    },
    "id": "Hm3Zg-dsPlBO",
    "outputId": "1b308275-6abc-4017-aa68-ffd90366b044"
   },
   "outputs": [
    {
     "name": "stdout",
     "output_type": "stream",
     "text": [
      "Shape after conv1: torch.Size([2, 16, 32, 32])\n",
      "Shape after relu: torch.Size([2, 16, 32, 32])\n",
      "Shape after flatten: torch.Size([2, 16384])\n",
      "Shape after fc1: torch.Size([2, 128])\n",
      "Shape after relu: torch.Size([2, 128])\n",
      "Shape after fc2: torch.Size([2, 10])\n"
     ]
    }
   ],
   "source": [
    "# Now, lets pass it into our network and see the shapes at each point\n",
    "out = model(X)"
   ]
  },
  {
   "cell_type": "markdown",
   "metadata": {
    "id": "SrcvbJlkPlBO"
   },
   "source": [
    "### This is one way to track the shapes of your data. If you recieve shape errors at some point, it might be helpful to do this throughout your forward function to figure out if things are as you expect. Some layers like Conv2d and MaxPool2d, actually modify the height and width of the input data. You should refer to the equations in the documentation to calculate it directly. For parameters you didn't specify, you should just use the default values specified in the function signature. Lets look at Conv2d for example.\n",
    "\n",
    "[Conv2d](https://pytorch.org/docs/stable/generated/torch.nn.Conv2d.html)\n",
    "\n",
    "### The previous network we created was designed specifically so that the convolutional layers didn't affect the height and width. Let's look at another example where this is not the case."
   ]
  },
  {
   "cell_type": "code",
   "execution_count": 9,
   "metadata": {
    "colab": {
     "base_uri": "https://localhost:8080/"
    },
    "id": "Y0JDCuy1PlBO",
    "outputId": "c4882619-e870-4c14-cd3b-01c6e07d8e13"
   },
   "outputs": [
    {
     "name": "stdout",
     "output_type": "stream",
     "text": [
      "MyNetwork3(\n",
      "  (conv1): Conv2d(3, 16, kernel_size=(3, 3), stride=(1, 1))\n",
      "  (conv2): Conv2d(16, 32, kernel_size=(3, 3), stride=(1, 1))\n",
      "  (fc1): Linear(in_features=25088, out_features=128, bias=True)\n",
      "  (fc2): Linear(in_features=128, out_features=10, bias=True)\n",
      "  (relu): ReLU()\n",
      "  (flatten): Flatten(start_dim=1, end_dim=-1)\n",
      ")\n"
     ]
    }
   ],
   "source": [
    "class MyNetwork3(nn.Module):\n",
    "    def __init__(self):\n",
    "        \"\"\"\n",
    "        Previously, the convolutional layer maintained the original height and width of the data.\n",
    "        Here, we're going to show another network where the convolutional layers affect the height and width\n",
    "        of our data.\n",
    "\n",
    "        1. Conv2d: 16 output channels, kernel of size 3, 0 padding, 1 stride\n",
    "        2. Conv2d: 32 output channels, kernel of size 3, 0 padding, 1 stride\n",
    "        3. Linear: 128 output features\n",
    "        4. Linear: 10 output features (This is produces our output)\n",
    "\n",
    "        With ReLU activation function after each convolutional and linear layer.\n",
    "        \"\"\"\n",
    "        super().__init__()\n",
    "        self.conv1 = nn.Conv2d(3, 16, 3, padding=0)\n",
    "        self.conv2 = nn.Conv2d(16, 32, 3, padding=0)\n",
    "\n",
    "        self.fc1 = nn.Linear(32*28*28, 128)\n",
    "        self.fc2 = nn.Linear(128, 10)\n",
    "\n",
    "        self.relu = nn.ReLU() # ReLU activation function (can be used multiple times since no parameters)\n",
    "        self.flatten = nn.Flatten() # Used for flattening the tensor for fc layers\n",
    "\n",
    "    def forward(self, x):\n",
    "        \"\"\"\n",
    "        Here, we should specify how our takes in our input data x\n",
    "        and feeds it through the network. In this case, x will\n",
    "        be the images obtained from the data loader (tensors).\n",
    "        \"\"\"\n",
    "        out = self.conv1(x)\n",
    "        print(f\"Shape after conv1: {out.shape}\")\n",
    "        out = self.relu(out)\n",
    "        print(f\"Shape after relu: {out.shape}\")\n",
    "\n",
    "        out = self.conv2(out)\n",
    "        print(f\"Shape after conv2: {out.shape}\")\n",
    "        out = self.relu(out)\n",
    "        print(f\"Shape after relu: {out.shape}\")\n",
    "\n",
    "\n",
    "        out = self.flatten(out)\n",
    "        print(f\"Shape after flatten: {out.shape}\")\n",
    "        out = self.fc1(out)\n",
    "        print(f\"Shape after fc1: {out.shape}\")\n",
    "        out = self.relu(out)\n",
    "        print(f\"Shape after relu: {out.shape}\")\n",
    "        out = self.fc2(out)\n",
    "        print(f\"Shape after fc2: {out.shape}\")\n",
    "\n",
    "        return out # Note: We do not need to apply an activation function to the output of the network\n",
    "\n",
    "\n",
    "# Now we can instantiate a network:\n",
    "model = MyNetwork3() # Create/Initialze the model\n",
    "model.to(device) # Send the model to the device we've chosen (either GPU or CPU depending on what's available)\n",
    "print(model)"
   ]
  },
  {
   "cell_type": "code",
   "execution_count": 10,
   "metadata": {
    "colab": {
     "base_uri": "https://localhost:8080/"
    },
    "id": "ZTfaayLcPlBO",
    "outputId": "fbb6ab3c-5fb1-42c9-f5d6-832461933144"
   },
   "outputs": [
    {
     "name": "stdout",
     "output_type": "stream",
     "text": [
      "Shape after conv1: torch.Size([2, 16, 30, 30])\n",
      "Shape after relu: torch.Size([2, 16, 30, 30])\n",
      "Shape after conv2: torch.Size([2, 32, 28, 28])\n",
      "Shape after relu: torch.Size([2, 32, 28, 28])\n",
      "Shape after flatten: torch.Size([2, 25088])\n",
      "Shape after fc1: torch.Size([2, 128])\n",
      "Shape after relu: torch.Size([2, 128])\n",
      "Shape after fc2: torch.Size([2, 10])\n"
     ]
    }
   ],
   "source": [
    "# Now, lets pass it into our network and see the shapes at each point\n",
    "out = model(X)"
   ]
  },
  {
   "cell_type": "markdown",
   "metadata": {
    "id": "KsjhWQGLPlBP"
   },
   "source": [
    "### In this case, conv1 and conv2 actually modified the height and width after the calculation. This is something to be mindful of. When in doubt, check your shapes!\n",
    "\n",
    "## Checking our model parameters\n",
    "We've talked a lot about weights and parameters. Where are they stored? How many of them are there? Naturally, this will be determined by the number of layers you use. However, we can also access them directly in PyTorch. Let's get an idea."
   ]
  },
  {
   "cell_type": "code",
   "execution_count": 11,
   "metadata": {
    "colab": {
     "base_uri": "https://localhost:8080/"
    },
    "id": "3NF7gvIDSLCu",
    "outputId": "6a83e173-152c-459c-d62a-e18ddb4c70b3"
   },
   "outputs": [
    {
     "name": "stdout",
     "output_type": "stream",
     "text": [
      "conv1.weight torch.Size([16, 3, 3, 3])\n",
      "conv1.bias torch.Size([16])\n",
      "conv2.weight torch.Size([32, 16, 3, 3])\n",
      "conv2.bias torch.Size([32])\n",
      "fc1.weight torch.Size([128, 25088])\n",
      "fc1.bias torch.Size([128])\n",
      "fc2.weight torch.Size([10, 128])\n",
      "fc2.bias torch.Size([10])\n",
      "\n",
      "<generator object Module.parameters at 0x1176dd510>\n"
     ]
    }
   ],
   "source": [
    "# For a convolutional layer with kernel size 3 (extends through the depth of the image), let's see the the number of parameters.\n",
    "for name, param in model.named_parameters():\n",
    "    print(name, param.shape)\n",
    "\n",
    "print()\n",
    "# To access all of the parameters of a specific layer, (Say, for transfer learning in HW4...)\n",
    "print(model.conv1.parameters()) # This will print the address of an object, but you can use this to pass into the optimizer\n",
    "\n",
    "# Before: Optimizing the entire model\n",
    "optimizer_all = torch.optim.Adam(model.parameters())\n",
    "\n",
    "# After: Optimizing just one layer (conv1)\n",
    "optimizer_conv1 = torch.optim.Adam(model.fc1.parameters())\n",
    "\n",
    "# You can then use the optimizer as normal (depending on the method you are trying to achieve)"
   ]
  },
  {
   "cell_type": "markdown",
   "metadata": {
    "id": "h8-nGrqMR79Z"
   },
   "source": [
    "## Hyperparameters\n",
    "\n",
    "Hyperparameters are parameters that can affect the training process, but are not the weights/parameters that we optimize in our network. Some examples of these can be:\n",
    "- Batch Size\n",
    "- Learning Rate\n",
    "- Momentum (Stoichastic Gradient Descent with Momentum)\n",
    "- beta1, beta2 (Adam)\n",
    "- Epochs\n",
    "\n",
    "### Often, these parameters need to be manually tuned. Let's take a look at some of these in code.\n",
    "\n",
    "## Batch Size\n",
    "Batch size is simply the number of images/data points that we process together at one time throughout the training process. Looking back, this was something that we defined for our data loader."
   ]
  },
  {
   "cell_type": "code",
   "execution_count": 12,
   "metadata": {
    "colab": {
     "base_uri": "https://localhost:8080/"
    },
    "id": "jC2nEMNpPlBP",
    "outputId": "016defa5-b090-420c-831c-b86f9025abd5"
   },
   "outputs": [
    {
     "name": "stdout",
     "output_type": "stream",
     "text": [
      "Shape of batch from first dataloader (batch_size=64)\n",
      "Shape of X [N, C, H, W]: torch.Size([64, 3, 32, 32])\n",
      "Shape of y: torch.Size([64]) torch.int64\n",
      "\n",
      "Shape of batch from second dataloader (batch_size=32)\n",
      "Shape of X [N, C, H, W]: torch.Size([32, 3, 32, 32])\n",
      "Shape of y: torch.Size([32]) torch.int64\n"
     ]
    }
   ],
   "source": [
    "batch_size_1 = 64\n",
    "train_dataloader_1 = DataLoader(training_data, batch_size=batch_size_1)\n",
    "\n",
    "batch_size_2 = 32\n",
    "train_dataloader_2 = DataLoader(training_data, batch_size=batch_size_2)\n",
    "\n",
    "print(\"Shape of batch from first dataloader (batch_size=64)\")\n",
    "for X,y in train_dataloader_1:\n",
    "    print(f\"Shape of X [N, C, H, W]: {X.shape}\") ## 64,3,32,32\n",
    "    print(f\"Shape of y: {y.shape} {y.dtype}\") ## 64,\n",
    "    break\n",
    "\n",
    "print()\n",
    "\n",
    "print(\"Shape of batch from second dataloader (batch_size=32)\")\n",
    "for X,y in train_dataloader_2:\n",
    "    print(f\"Shape of X [N, C, H, W]: {X.shape}\") ## 32,3,32,32\n",
    "    print(f\"Shape of y: {y.shape} {y.dtype}\") ## 32,\n",
    "    break"
   ]
  },
  {
   "cell_type": "markdown",
   "metadata": {
    "id": "r3J9On6jqVSj"
   },
   "source": [
    "### Batch size is something that is limited by the amount of memory you have and is machine dependent. If we are using GPU, we need to keep both the batch of data and the network in the memory of our GPU. In general: the larger the batch_size, the more stable your training will be."
   ]
  },
  {
   "cell_type": "markdown",
   "metadata": {
    "id": "S6WPEuFCnIYX"
   },
   "source": [
    "## Epochs\n",
    "The number of epochs is the number of times that your training data has passed completely through the dataset. Usually, we want to train our model until it converges. This can usually be seen through the graph of the loss. When the loss stops decreasing, it is a sign that your model has converged (with some caveats). Earlier, we trained our model on just 1 epoch. We can just set the total number of epochs an run the training loop that many times."
   ]
  },
  {
   "cell_type": "code",
   "execution_count": 16,
   "metadata": {
    "colab": {
     "base_uri": "https://localhost:8080/"
    },
    "id": "gFqF4GR8U7Ts",
    "outputId": "7f8a6e73-8684-4021-d5d1-77c04292261a"
   },
   "outputs": [
    {
     "name": "stdout",
     "output_type": "stream",
     "text": [
      "Begin epoch 0\n",
      "loss: 2.295621  [   64/50000]\n",
      "loss: 1.739963  [ 6464/50000]\n",
      "loss: 1.514857  [12864/50000]\n",
      "loss: 1.652969  [19264/50000]\n",
      "loss: 1.615458  [25664/50000]\n",
      "loss: 1.662487  [32064/50000]\n",
      "loss: 1.592800  [38464/50000]\n",
      "loss: 1.388899  [44864/50000]\n",
      "Evaluating at epoch 0\n",
      "\n",
      "Test Error: \n",
      " Accuracy: 49.6%, Avg loss: 1.403253 \n",
      "\n",
      "\n",
      "Begin epoch 1\n",
      "loss: 1.306324  [   64/50000]\n",
      "loss: 1.367265  [ 6464/50000]\n",
      "loss: 1.215338  [12864/50000]\n",
      "loss: 1.362682  [19264/50000]\n",
      "loss: 1.222897  [25664/50000]\n",
      "loss: 1.443191  [32064/50000]\n",
      "loss: 1.415698  [38464/50000]\n",
      "loss: 1.282976  [44864/50000]\n",
      "Evaluating at epoch 1\n",
      "\n",
      "Test Error: \n",
      " Accuracy: 53.2%, Avg loss: 1.317591 \n",
      "\n",
      "\n",
      "Begin epoch 2\n",
      "loss: 1.092077  [   64/50000]\n",
      "loss: 1.219761  [ 6464/50000]\n",
      "loss: 1.099681  [12864/50000]\n",
      "loss: 1.286691  [19264/50000]\n",
      "loss: 1.103622  [25664/50000]\n",
      "loss: 1.342034  [32064/50000]\n",
      "loss: 1.259087  [38464/50000]\n",
      "loss: 1.222820  [44864/50000]\n",
      "Evaluating at epoch 2\n",
      "\n",
      "Test Error: \n",
      " Accuracy: 56.5%, Avg loss: 1.227219 \n",
      "\n",
      "\n"
     ]
    }
   ],
   "source": [
    "# Let's try training\n",
    "model = MyNetwork().to(device)\n",
    "\n",
    "loss_fn = nn.CrossEntropyLoss() # Initialize our loss function\n",
    "optimizer = torch.optim.Adam(model.parameters()) # Initialize our optimizer\n",
    "\n",
    "epochs = 3\n",
    "train_loss = []\n",
    "for i in range(epochs):\n",
    "    print(f\"Begin epoch {i}\")\n",
    "    # Training\n",
    "    train_loss += train(train_dataloader, model, loss_fn, optimizer, device)\n",
    "\n",
    "    # Testing\n",
    "    print(f\"Evaluating at epoch {i}\")\n",
    "    test(test_dataloader, model, loss_fn, device)\n",
    "\n",
    "    print()\n"
   ]
  },
  {
   "cell_type": "code",
   "execution_count": 17,
   "metadata": {
    "colab": {
     "base_uri": "https://localhost:8080/",
     "height": 472
    },
    "id": "ATQq40Uuobag",
    "outputId": "13b1709a-7600-4cac-d345-6de855d682a9"
   },
   "outputs": [
    {
     "data": {
      "image/png": "[encoded data removed]",
      "text/plain": [
       "<Figure size 640x480 with 1 Axes>"
      ]
     },
     "metadata": {},
     "output_type": "display_data"
    }
   ],
   "source": [
    "# Now, we can plot our training loss\n",
    "plt.plot(range(len(train_loss)), train_loss)\n",
    "plt.xlabel(\"Batch Iteration\")\n",
    "plt.ylabel(\"Loss\")\n",
    "plt.title(\"Training Loss\")\n",
    "plt.show()"
   ]
  },
  {
   "cell_type": "markdown",
   "metadata": {
    "id": "gO2piiEhPlBP"
   },
   "source": [
    "## Learning Rate\n",
    "Learning rate will determine how large the step will be in our optimization process. Think back to the gradient descent process. The update rule for the most basic version of gradient descent is:\n",
    "\n",
    "$$\n",
    "x_{n+1} = x_{n} - \\eta \\nabla f(x)\n",
    "$$\n",
    "\n",
    "where:\n",
    "- $x_{n+1}$ are the parameters in the next iteration $n+1$\n",
    "- $x_n$ are the current parameters at iteration $n$\n",
    "- $\\eta$ is the learning rate\n",
    "-  $f'(x)$ is the gradient of our loss/cost function\n",
    "\n",
    "Breaking this down, we are using the gradient of our loss function and our current weights $x_n$ to update the weights $x_{n+1}$ in our next iteration.\n",
    "\n",
    "Too large of a step size can cause your training process to be very unstable, jumping over local minima and taking a long time to converge. Too small of a step size can also cause it to take very long to converge, especially when the gradient is small. Learning rate is not really machine dependent, but is very important in a successful training.\n",
    "\n",
    "### Let's look at this in code. We will modify our optimizer to use different learning rates\n",
    "\n",
    "[Adam](https://pytorch.org/docs/stable/generated/torch.optim.Adam.html)"
   ]
  },
  {
   "cell_type": "code",
   "execution_count": 18,
   "metadata": {
    "colab": {
     "base_uri": "https://localhost:8080/"
    },
    "id": "G9ihKyNRPlBP",
    "outputId": "769e092c-e308-49e9-b4fa-ab913d4ee611"
   },
   "outputs": [
    {
     "name": "stdout",
     "output_type": "stream",
     "text": [
      "loss: 2.297098  [   64/50000]\n",
      "loss: 1.755377  [ 6464/50000]\n",
      "loss: 1.507789  [12864/50000]\n",
      "loss: 1.569269  [19264/50000]\n",
      "loss: 1.480388  [25664/50000]\n",
      "loss: 1.585066  [32064/50000]\n",
      "loss: 1.557698  [38464/50000]\n",
      "loss: 1.421312  [44864/50000]\n",
      "\n",
      "Test Error: \n",
      " Accuracy: 50.2%, Avg loss: 1.388597 \n",
      "\n"
     ]
    }
   ],
   "source": [
    "# Let's try training\n",
    "model = MyNetwork().to(device)\n",
    "\n",
    "learning_rate = 0.001 # Default learning rate for Adam\n",
    "\n",
    "loss_fn = nn.CrossEntropyLoss() # Initialize our loss function\n",
    "optimizer = torch.optim.Adam(model.parameters(), lr=learning_rate) # Initialize our optimizer\n",
    "\n",
    "# Training\n",
    "train_loss = train(train_dataloader, model, loss_fn, optimizer, device)\n",
    "\n",
    "# Testing\n",
    "test(test_dataloader, model, loss_fn, device)"
   ]
  },
  {
   "cell_type": "code",
   "execution_count": 19,
   "metadata": {
    "colab": {
     "base_uri": "https://localhost:8080/",
     "height": 472
    },
    "id": "nhsEH6niUtIU",
    "outputId": "214d7576-6b4e-47a1-8062-f24aa318a486"
   },
   "outputs": [
    {
     "data": {
      "image/png": "[encoded data removed]",
      "text/plain": [
       "<Figure size 640x480 with 1 Axes>"
      ]
     },
     "metadata": {},
     "output_type": "display_data"
    }
   ],
   "source": [
    "# Now, we can plot our training loss\n",
    "plt.plot(range(len(train_loss)), train_loss)\n",
    "plt.xlabel(\"Batch Iteration\")\n",
    "plt.ylabel(\"Loss\")\n",
    "plt.title(\"Training Loss\")\n",
    "plt.show()"
   ]
  },
  {
   "cell_type": "code",
   "execution_count": 20,
   "metadata": {
    "id": "vSrB7lUwJoQ6"
   },
   "outputs": [],
   "source": []
  }
 ],
 "metadata": {
  "accelerator": "GPU",
  "colab": {
   "gpuType": "T4",
   "provenance": []
  },
  "kernelspec": {
   "display_name": "Python 3 (ipykernel)",
   "language": "python",
   "name": "python3"
  },
  "language_info": {
   "codemirror_mode": {
    "name": "ipython",
    "version": 3
   },
   "file_extension": ".py",
   "mimetype": "text/x-python",
   "name": "python",
   "nbconvert_exporter": "python",
   "pygments_lexer": "ipython3",
   "version": "3.9.1"
  }
 },
 "nbformat": 4,
 "nbformat_minor": 1
}
